{
  "nbformat": 4,
  "nbformat_minor": 0,
  "metadata": {
    "accelerator": "GPU",
    "colab": {
      "name": "dacon_technic.ipynb",
      "provenance": [],
      "collapsed_sections": [],
      "machine_shape": "hm"
    },
    "kernelspec": {
      "display_name": "Python 3",
      "name": "python3"
    },
    "language_info": {
      "name": "python"
    },
    "widgets": {
      "application/vnd.jupyter.widget-state+json": {
        "4d7e91aceb524638968e816192feb525": {
          "model_module": "@jupyter-widgets/controls",
          "model_name": "HBoxModel",
          "model_module_version": "1.5.0",
          "state": {
            "_view_name": "HBoxView",
            "_dom_classes": [],
            "_model_name": "HBoxModel",
            "_view_module": "@jupyter-widgets/controls",
            "_model_module_version": "1.5.0",
            "_view_count": null,
            "_view_module_version": "1.5.0",
            "box_style": "",
            "layout": "IPY_MODEL_a369cba2aeb74c7d9e79b21b6a544459",
            "_model_module": "@jupyter-widgets/controls",
            "children": [
              "IPY_MODEL_eb8f02012d04481da927637b2c346d50",
              "IPY_MODEL_acfbeda0e48945389df351db9855c7c9",
              "IPY_MODEL_531336aa0fa642ad8f28d956dec4113e"
            ]
          }
        },
        "a369cba2aeb74c7d9e79b21b6a544459": {
          "model_module": "@jupyter-widgets/base",
          "model_name": "LayoutModel",
          "model_module_version": "1.2.0",
          "state": {
            "_view_name": "LayoutView",
            "grid_template_rows": null,
            "right": null,
            "justify_content": null,
            "_view_module": "@jupyter-widgets/base",
            "overflow": null,
            "_model_module_version": "1.2.0",
            "_view_count": null,
            "flex_flow": null,
            "width": null,
            "min_width": null,
            "border": null,
            "align_items": null,
            "bottom": null,
            "_model_module": "@jupyter-widgets/base",
            "top": null,
            "grid_column": null,
            "overflow_y": null,
            "overflow_x": null,
            "grid_auto_flow": null,
            "grid_area": null,
            "grid_template_columns": null,
            "flex": null,
            "_model_name": "LayoutModel",
            "justify_items": null,
            "grid_row": null,
            "max_height": null,
            "align_content": null,
            "visibility": null,
            "align_self": null,
            "height": null,
            "min_height": null,
            "padding": null,
            "grid_auto_rows": null,
            "grid_gap": null,
            "max_width": null,
            "order": null,
            "_view_module_version": "1.2.0",
            "grid_template_areas": null,
            "object_position": null,
            "object_fit": null,
            "grid_auto_columns": null,
            "margin": null,
            "display": null,
            "left": null
          }
        },
        "eb8f02012d04481da927637b2c346d50": {
          "model_module": "@jupyter-widgets/controls",
          "model_name": "HTMLModel",
          "model_module_version": "1.5.0",
          "state": {
            "_view_name": "HTMLView",
            "style": "IPY_MODEL_c7a84124b54a45eab176f3eb9118c0b2",
            "_dom_classes": [],
            "description": "",
            "_model_name": "HTMLModel",
            "placeholder": "​",
            "_view_module": "@jupyter-widgets/controls",
            "_model_module_version": "1.5.0",
            "value": "Downloading: 100%",
            "_view_count": null,
            "_view_module_version": "1.5.0",
            "description_tooltip": null,
            "_model_module": "@jupyter-widgets/controls",
            "layout": "IPY_MODEL_a31b17842c794dc58f2bd0a152354d00"
          }
        },
        "acfbeda0e48945389df351db9855c7c9": {
          "model_module": "@jupyter-widgets/controls",
          "model_name": "FloatProgressModel",
          "model_module_version": "1.5.0",
          "state": {
            "_view_name": "ProgressView",
            "style": "IPY_MODEL_40cf9a1ce2014069be5e57327b454c07",
            "_dom_classes": [],
            "description": "",
            "_model_name": "FloatProgressModel",
            "bar_style": "success",
            "max": 995526,
            "_view_module": "@jupyter-widgets/controls",
            "_model_module_version": "1.5.0",
            "value": 995526,
            "_view_count": null,
            "_view_module_version": "1.5.0",
            "orientation": "horizontal",
            "min": 0,
            "description_tooltip": null,
            "_model_module": "@jupyter-widgets/controls",
            "layout": "IPY_MODEL_323453fee6484d569a364d92a74fcefb"
          }
        },
        "531336aa0fa642ad8f28d956dec4113e": {
          "model_module": "@jupyter-widgets/controls",
          "model_name": "HTMLModel",
          "model_module_version": "1.5.0",
          "state": {
            "_view_name": "HTMLView",
            "style": "IPY_MODEL_867fe1b83f4c44469a0fcd0eadcad7b7",
            "_dom_classes": [],
            "description": "",
            "_model_name": "HTMLModel",
            "placeholder": "​",
            "_view_module": "@jupyter-widgets/controls",
            "_model_module_version": "1.5.0",
            "value": " 996k/996k [00:00&lt;00:00, 2.32MB/s]",
            "_view_count": null,
            "_view_module_version": "1.5.0",
            "description_tooltip": null,
            "_model_module": "@jupyter-widgets/controls",
            "layout": "IPY_MODEL_b967b41b050344089a82156bcd30958c"
          }
        },
        "c7a84124b54a45eab176f3eb9118c0b2": {
          "model_module": "@jupyter-widgets/controls",
          "model_name": "DescriptionStyleModel",
          "model_module_version": "1.5.0",
          "state": {
            "_view_name": "StyleView",
            "_model_name": "DescriptionStyleModel",
            "description_width": "",
            "_view_module": "@jupyter-widgets/base",
            "_model_module_version": "1.5.0",
            "_view_count": null,
            "_view_module_version": "1.2.0",
            "_model_module": "@jupyter-widgets/controls"
          }
        },
        "a31b17842c794dc58f2bd0a152354d00": {
          "model_module": "@jupyter-widgets/base",
          "model_name": "LayoutModel",
          "model_module_version": "1.2.0",
          "state": {
            "_view_name": "LayoutView",
            "grid_template_rows": null,
            "right": null,
            "justify_content": null,
            "_view_module": "@jupyter-widgets/base",
            "overflow": null,
            "_model_module_version": "1.2.0",
            "_view_count": null,
            "flex_flow": null,
            "width": null,
            "min_width": null,
            "border": null,
            "align_items": null,
            "bottom": null,
            "_model_module": "@jupyter-widgets/base",
            "top": null,
            "grid_column": null,
            "overflow_y": null,
            "overflow_x": null,
            "grid_auto_flow": null,
            "grid_area": null,
            "grid_template_columns": null,
            "flex": null,
            "_model_name": "LayoutModel",
            "justify_items": null,
            "grid_row": null,
            "max_height": null,
            "align_content": null,
            "visibility": null,
            "align_self": null,
            "height": null,
            "min_height": null,
            "padding": null,
            "grid_auto_rows": null,
            "grid_gap": null,
            "max_width": null,
            "order": null,
            "_view_module_version": "1.2.0",
            "grid_template_areas": null,
            "object_position": null,
            "object_fit": null,
            "grid_auto_columns": null,
            "margin": null,
            "display": null,
            "left": null
          }
        },
        "40cf9a1ce2014069be5e57327b454c07": {
          "model_module": "@jupyter-widgets/controls",
          "model_name": "ProgressStyleModel",
          "model_module_version": "1.5.0",
          "state": {
            "_view_name": "StyleView",
            "_model_name": "ProgressStyleModel",
            "description_width": "",
            "_view_module": "@jupyter-widgets/base",
            "_model_module_version": "1.5.0",
            "_view_count": null,
            "_view_module_version": "1.2.0",
            "bar_color": null,
            "_model_module": "@jupyter-widgets/controls"
          }
        },
        "323453fee6484d569a364d92a74fcefb": {
          "model_module": "@jupyter-widgets/base",
          "model_name": "LayoutModel",
          "model_module_version": "1.2.0",
          "state": {
            "_view_name": "LayoutView",
            "grid_template_rows": null,
            "right": null,
            "justify_content": null,
            "_view_module": "@jupyter-widgets/base",
            "overflow": null,
            "_model_module_version": "1.2.0",
            "_view_count": null,
            "flex_flow": null,
            "width": null,
            "min_width": null,
            "border": null,
            "align_items": null,
            "bottom": null,
            "_model_module": "@jupyter-widgets/base",
            "top": null,
            "grid_column": null,
            "overflow_y": null,
            "overflow_x": null,
            "grid_auto_flow": null,
            "grid_area": null,
            "grid_template_columns": null,
            "flex": null,
            "_model_name": "LayoutModel",
            "justify_items": null,
            "grid_row": null,
            "max_height": null,
            "align_content": null,
            "visibility": null,
            "align_self": null,
            "height": null,
            "min_height": null,
            "padding": null,
            "grid_auto_rows": null,
            "grid_gap": null,
            "max_width": null,
            "order": null,
            "_view_module_version": "1.2.0",
            "grid_template_areas": null,
            "object_position": null,
            "object_fit": null,
            "grid_auto_columns": null,
            "margin": null,
            "display": null,
            "left": null
          }
        },
        "867fe1b83f4c44469a0fcd0eadcad7b7": {
          "model_module": "@jupyter-widgets/controls",
          "model_name": "DescriptionStyleModel",
          "model_module_version": "1.5.0",
          "state": {
            "_view_name": "StyleView",
            "_model_name": "DescriptionStyleModel",
            "description_width": "",
            "_view_module": "@jupyter-widgets/base",
            "_model_module_version": "1.5.0",
            "_view_count": null,
            "_view_module_version": "1.2.0",
            "_model_module": "@jupyter-widgets/controls"
          }
        },
        "b967b41b050344089a82156bcd30958c": {
          "model_module": "@jupyter-widgets/base",
          "model_name": "LayoutModel",
          "model_module_version": "1.2.0",
          "state": {
            "_view_name": "LayoutView",
            "grid_template_rows": null,
            "right": null,
            "justify_content": null,
            "_view_module": "@jupyter-widgets/base",
            "overflow": null,
            "_model_module_version": "1.2.0",
            "_view_count": null,
            "flex_flow": null,
            "width": null,
            "min_width": null,
            "border": null,
            "align_items": null,
            "bottom": null,
            "_model_module": "@jupyter-widgets/base",
            "top": null,
            "grid_column": null,
            "overflow_y": null,
            "overflow_x": null,
            "grid_auto_flow": null,
            "grid_area": null,
            "grid_template_columns": null,
            "flex": null,
            "_model_name": "LayoutModel",
            "justify_items": null,
            "grid_row": null,
            "max_height": null,
            "align_content": null,
            "visibility": null,
            "align_self": null,
            "height": null,
            "min_height": null,
            "padding": null,
            "grid_auto_rows": null,
            "grid_gap": null,
            "max_width": null,
            "order": null,
            "_view_module_version": "1.2.0",
            "grid_template_areas": null,
            "object_position": null,
            "object_fit": null,
            "grid_auto_columns": null,
            "margin": null,
            "display": null,
            "left": null
          }
        },
        "fe8894ea73024332acb4aee3ca42a932": {
          "model_module": "@jupyter-widgets/controls",
          "model_name": "HBoxModel",
          "model_module_version": "1.5.0",
          "state": {
            "_view_name": "HBoxView",
            "_dom_classes": [],
            "_model_name": "HBoxModel",
            "_view_module": "@jupyter-widgets/controls",
            "_model_module_version": "1.5.0",
            "_view_count": null,
            "_view_module_version": "1.5.0",
            "box_style": "",
            "layout": "IPY_MODEL_14ff3589961b465e80528989e96eebc3",
            "_model_module": "@jupyter-widgets/controls",
            "children": [
              "IPY_MODEL_49e5424a67734939b6a83970e8a3340f",
              "IPY_MODEL_3d3a3b0aea6f473ab62195a559f0d644",
              "IPY_MODEL_006ad3dbb24848dfbe7426481b430421"
            ]
          }
        },
        "14ff3589961b465e80528989e96eebc3": {
          "model_module": "@jupyter-widgets/base",
          "model_name": "LayoutModel",
          "model_module_version": "1.2.0",
          "state": {
            "_view_name": "LayoutView",
            "grid_template_rows": null,
            "right": null,
            "justify_content": null,
            "_view_module": "@jupyter-widgets/base",
            "overflow": null,
            "_model_module_version": "1.2.0",
            "_view_count": null,
            "flex_flow": null,
            "width": null,
            "min_width": null,
            "border": null,
            "align_items": null,
            "bottom": null,
            "_model_module": "@jupyter-widgets/base",
            "top": null,
            "grid_column": null,
            "overflow_y": null,
            "overflow_x": null,
            "grid_auto_flow": null,
            "grid_area": null,
            "grid_template_columns": null,
            "flex": null,
            "_model_name": "LayoutModel",
            "justify_items": null,
            "grid_row": null,
            "max_height": null,
            "align_content": null,
            "visibility": null,
            "align_self": null,
            "height": null,
            "min_height": null,
            "padding": null,
            "grid_auto_rows": null,
            "grid_gap": null,
            "max_width": null,
            "order": null,
            "_view_module_version": "1.2.0",
            "grid_template_areas": null,
            "object_position": null,
            "object_fit": null,
            "grid_auto_columns": null,
            "margin": null,
            "display": null,
            "left": null
          }
        },
        "49e5424a67734939b6a83970e8a3340f": {
          "model_module": "@jupyter-widgets/controls",
          "model_name": "HTMLModel",
          "model_module_version": "1.5.0",
          "state": {
            "_view_name": "HTMLView",
            "style": "IPY_MODEL_3a83b6e228894c05930713dba818c483",
            "_dom_classes": [],
            "description": "",
            "_model_name": "HTMLModel",
            "placeholder": "​",
            "_view_module": "@jupyter-widgets/controls",
            "_model_module_version": "1.5.0",
            "value": "Downloading: 100%",
            "_view_count": null,
            "_view_module_version": "1.5.0",
            "description_tooltip": null,
            "_model_module": "@jupyter-widgets/controls",
            "layout": "IPY_MODEL_6535985694704be095f2eccca79b0c41"
          }
        },
        "3d3a3b0aea6f473ab62195a559f0d644": {
          "model_module": "@jupyter-widgets/controls",
          "model_name": "FloatProgressModel",
          "model_module_version": "1.5.0",
          "state": {
            "_view_name": "ProgressView",
            "style": "IPY_MODEL_deaa79b9cc6447f1b84dd6056fac5422",
            "_dom_classes": [],
            "description": "",
            "_model_name": "FloatProgressModel",
            "bar_style": "success",
            "max": 625,
            "_view_module": "@jupyter-widgets/controls",
            "_model_module_version": "1.5.0",
            "value": 625,
            "_view_count": null,
            "_view_module_version": "1.5.0",
            "orientation": "horizontal",
            "min": 0,
            "description_tooltip": null,
            "_model_module": "@jupyter-widgets/controls",
            "layout": "IPY_MODEL_3f0fa590c00d43528d2fc82afe35e84f"
          }
        },
        "006ad3dbb24848dfbe7426481b430421": {
          "model_module": "@jupyter-widgets/controls",
          "model_name": "HTMLModel",
          "model_module_version": "1.5.0",
          "state": {
            "_view_name": "HTMLView",
            "style": "IPY_MODEL_12318481758841a5a48525bfcb89ea57",
            "_dom_classes": [],
            "description": "",
            "_model_name": "HTMLModel",
            "placeholder": "​",
            "_view_module": "@jupyter-widgets/controls",
            "_model_module_version": "1.5.0",
            "value": " 625/625 [00:00&lt;00:00, 24.4kB/s]",
            "_view_count": null,
            "_view_module_version": "1.5.0",
            "description_tooltip": null,
            "_model_module": "@jupyter-widgets/controls",
            "layout": "IPY_MODEL_5d550dd159a84b989c78d9a2a49354b5"
          }
        },
        "3a83b6e228894c05930713dba818c483": {
          "model_module": "@jupyter-widgets/controls",
          "model_name": "DescriptionStyleModel",
          "model_module_version": "1.5.0",
          "state": {
            "_view_name": "StyleView",
            "_model_name": "DescriptionStyleModel",
            "description_width": "",
            "_view_module": "@jupyter-widgets/base",
            "_model_module_version": "1.5.0",
            "_view_count": null,
            "_view_module_version": "1.2.0",
            "_model_module": "@jupyter-widgets/controls"
          }
        },
        "6535985694704be095f2eccca79b0c41": {
          "model_module": "@jupyter-widgets/base",
          "model_name": "LayoutModel",
          "model_module_version": "1.2.0",
          "state": {
            "_view_name": "LayoutView",
            "grid_template_rows": null,
            "right": null,
            "justify_content": null,
            "_view_module": "@jupyter-widgets/base",
            "overflow": null,
            "_model_module_version": "1.2.0",
            "_view_count": null,
            "flex_flow": null,
            "width": null,
            "min_width": null,
            "border": null,
            "align_items": null,
            "bottom": null,
            "_model_module": "@jupyter-widgets/base",
            "top": null,
            "grid_column": null,
            "overflow_y": null,
            "overflow_x": null,
            "grid_auto_flow": null,
            "grid_area": null,
            "grid_template_columns": null,
            "flex": null,
            "_model_name": "LayoutModel",
            "justify_items": null,
            "grid_row": null,
            "max_height": null,
            "align_content": null,
            "visibility": null,
            "align_self": null,
            "height": null,
            "min_height": null,
            "padding": null,
            "grid_auto_rows": null,
            "grid_gap": null,
            "max_width": null,
            "order": null,
            "_view_module_version": "1.2.0",
            "grid_template_areas": null,
            "object_position": null,
            "object_fit": null,
            "grid_auto_columns": null,
            "margin": null,
            "display": null,
            "left": null
          }
        },
        "deaa79b9cc6447f1b84dd6056fac5422": {
          "model_module": "@jupyter-widgets/controls",
          "model_name": "ProgressStyleModel",
          "model_module_version": "1.5.0",
          "state": {
            "_view_name": "StyleView",
            "_model_name": "ProgressStyleModel",
            "description_width": "",
            "_view_module": "@jupyter-widgets/base",
            "_model_module_version": "1.5.0",
            "_view_count": null,
            "_view_module_version": "1.2.0",
            "bar_color": null,
            "_model_module": "@jupyter-widgets/controls"
          }
        },
        "3f0fa590c00d43528d2fc82afe35e84f": {
          "model_module": "@jupyter-widgets/base",
          "model_name": "LayoutModel",
          "model_module_version": "1.2.0",
          "state": {
            "_view_name": "LayoutView",
            "grid_template_rows": null,
            "right": null,
            "justify_content": null,
            "_view_module": "@jupyter-widgets/base",
            "overflow": null,
            "_model_module_version": "1.2.0",
            "_view_count": null,
            "flex_flow": null,
            "width": null,
            "min_width": null,
            "border": null,
            "align_items": null,
            "bottom": null,
            "_model_module": "@jupyter-widgets/base",
            "top": null,
            "grid_column": null,
            "overflow_y": null,
            "overflow_x": null,
            "grid_auto_flow": null,
            "grid_area": null,
            "grid_template_columns": null,
            "flex": null,
            "_model_name": "LayoutModel",
            "justify_items": null,
            "grid_row": null,
            "max_height": null,
            "align_content": null,
            "visibility": null,
            "align_self": null,
            "height": null,
            "min_height": null,
            "padding": null,
            "grid_auto_rows": null,
            "grid_gap": null,
            "max_width": null,
            "order": null,
            "_view_module_version": "1.2.0",
            "grid_template_areas": null,
            "object_position": null,
            "object_fit": null,
            "grid_auto_columns": null,
            "margin": null,
            "display": null,
            "left": null
          }
        },
        "12318481758841a5a48525bfcb89ea57": {
          "model_module": "@jupyter-widgets/controls",
          "model_name": "DescriptionStyleModel",
          "model_module_version": "1.5.0",
          "state": {
            "_view_name": "StyleView",
            "_model_name": "DescriptionStyleModel",
            "description_width": "",
            "_view_module": "@jupyter-widgets/base",
            "_model_module_version": "1.5.0",
            "_view_count": null,
            "_view_module_version": "1.2.0",
            "_model_module": "@jupyter-widgets/controls"
          }
        },
        "5d550dd159a84b989c78d9a2a49354b5": {
          "model_module": "@jupyter-widgets/base",
          "model_name": "LayoutModel",
          "model_module_version": "1.2.0",
          "state": {
            "_view_name": "LayoutView",
            "grid_template_rows": null,
            "right": null,
            "justify_content": null,
            "_view_module": "@jupyter-widgets/base",
            "overflow": null,
            "_model_module_version": "1.2.0",
            "_view_count": null,
            "flex_flow": null,
            "width": null,
            "min_width": null,
            "border": null,
            "align_items": null,
            "bottom": null,
            "_model_module": "@jupyter-widgets/base",
            "top": null,
            "grid_column": null,
            "overflow_y": null,
            "overflow_x": null,
            "grid_auto_flow": null,
            "grid_area": null,
            "grid_template_columns": null,
            "flex": null,
            "_model_name": "LayoutModel",
            "justify_items": null,
            "grid_row": null,
            "max_height": null,
            "align_content": null,
            "visibility": null,
            "align_self": null,
            "height": null,
            "min_height": null,
            "padding": null,
            "grid_auto_rows": null,
            "grid_gap": null,
            "max_width": null,
            "order": null,
            "_view_module_version": "1.2.0",
            "grid_template_areas": null,
            "object_position": null,
            "object_fit": null,
            "grid_auto_columns": null,
            "margin": null,
            "display": null,
            "left": null
          }
        },
        "7009d05913594d64b378e1e1ef8aa82b": {
          "model_module": "@jupyter-widgets/controls",
          "model_name": "HBoxModel",
          "model_module_version": "1.5.0",
          "state": {
            "_view_name": "HBoxView",
            "_dom_classes": [],
            "_model_name": "HBoxModel",
            "_view_module": "@jupyter-widgets/controls",
            "_model_module_version": "1.5.0",
            "_view_count": null,
            "_view_module_version": "1.5.0",
            "box_style": "",
            "layout": "IPY_MODEL_fa7f333049c94e8e830cb4c7416a07d0",
            "_model_module": "@jupyter-widgets/controls",
            "children": [
              "IPY_MODEL_a41e974ea12c4e25abcfc8a03f9f514e",
              "IPY_MODEL_251f547527154f75ae6fd9182e669017",
              "IPY_MODEL_42065662c82a40acac1205b0ae559735"
            ]
          }
        },
        "fa7f333049c94e8e830cb4c7416a07d0": {
          "model_module": "@jupyter-widgets/base",
          "model_name": "LayoutModel",
          "model_module_version": "1.2.0",
          "state": {
            "_view_name": "LayoutView",
            "grid_template_rows": null,
            "right": null,
            "justify_content": null,
            "_view_module": "@jupyter-widgets/base",
            "overflow": null,
            "_model_module_version": "1.2.0",
            "_view_count": null,
            "flex_flow": null,
            "width": null,
            "min_width": null,
            "border": null,
            "align_items": null,
            "bottom": null,
            "_model_module": "@jupyter-widgets/base",
            "top": null,
            "grid_column": null,
            "overflow_y": null,
            "overflow_x": null,
            "grid_auto_flow": null,
            "grid_area": null,
            "grid_template_columns": null,
            "flex": null,
            "_model_name": "LayoutModel",
            "justify_items": null,
            "grid_row": null,
            "max_height": null,
            "align_content": null,
            "visibility": null,
            "align_self": null,
            "height": null,
            "min_height": null,
            "padding": null,
            "grid_auto_rows": null,
            "grid_gap": null,
            "max_width": null,
            "order": null,
            "_view_module_version": "1.2.0",
            "grid_template_areas": null,
            "object_position": null,
            "object_fit": null,
            "grid_auto_columns": null,
            "margin": null,
            "display": null,
            "left": null
          }
        },
        "a41e974ea12c4e25abcfc8a03f9f514e": {
          "model_module": "@jupyter-widgets/controls",
          "model_name": "HTMLModel",
          "model_module_version": "1.5.0",
          "state": {
            "_view_name": "HTMLView",
            "style": "IPY_MODEL_43cc6ed6300247d1a1840ddc87bea9a0",
            "_dom_classes": [],
            "description": "",
            "_model_name": "HTMLModel",
            "placeholder": "​",
            "_view_module": "@jupyter-widgets/controls",
            "_model_module_version": "1.5.0",
            "value": "Downloading: 100%",
            "_view_count": null,
            "_view_module_version": "1.5.0",
            "description_tooltip": null,
            "_model_module": "@jupyter-widgets/controls",
            "layout": "IPY_MODEL_c344daf8217c4a108f5227dbd163bcf5"
          }
        },
        "251f547527154f75ae6fd9182e669017": {
          "model_module": "@jupyter-widgets/controls",
          "model_name": "FloatProgressModel",
          "model_module_version": "1.5.0",
          "state": {
            "_view_name": "ProgressView",
            "style": "IPY_MODEL_7f5bf1645d1f43e0afe44b9ff213aabd",
            "_dom_classes": [],
            "description": "",
            "_model_name": "FloatProgressModel",
            "bar_style": "success",
            "max": 1083389348,
            "_view_module": "@jupyter-widgets/controls",
            "_model_module_version": "1.5.0",
            "value": 1083389348,
            "_view_count": null,
            "_view_module_version": "1.5.0",
            "orientation": "horizontal",
            "min": 0,
            "description_tooltip": null,
            "_model_module": "@jupyter-widgets/controls",
            "layout": "IPY_MODEL_339d89310dc044b49dc007d3ff8370f4"
          }
        },
        "42065662c82a40acac1205b0ae559735": {
          "model_module": "@jupyter-widgets/controls",
          "model_name": "HTMLModel",
          "model_module_version": "1.5.0",
          "state": {
            "_view_name": "HTMLView",
            "style": "IPY_MODEL_049c2ee7225e44e5a9a413dfbe96e918",
            "_dom_classes": [],
            "description": "",
            "_model_name": "HTMLModel",
            "placeholder": "​",
            "_view_module": "@jupyter-widgets/controls",
            "_model_module_version": "1.5.0",
            "value": " 1.08G/1.08G [00:19&lt;00:00, 45.5MB/s]",
            "_view_count": null,
            "_view_module_version": "1.5.0",
            "description_tooltip": null,
            "_model_module": "@jupyter-widgets/controls",
            "layout": "IPY_MODEL_a1e305143de047a1b2da0b36d08704e1"
          }
        },
        "43cc6ed6300247d1a1840ddc87bea9a0": {
          "model_module": "@jupyter-widgets/controls",
          "model_name": "DescriptionStyleModel",
          "model_module_version": "1.5.0",
          "state": {
            "_view_name": "StyleView",
            "_model_name": "DescriptionStyleModel",
            "description_width": "",
            "_view_module": "@jupyter-widgets/base",
            "_model_module_version": "1.5.0",
            "_view_count": null,
            "_view_module_version": "1.2.0",
            "_model_module": "@jupyter-widgets/controls"
          }
        },
        "c344daf8217c4a108f5227dbd163bcf5": {
          "model_module": "@jupyter-widgets/base",
          "model_name": "LayoutModel",
          "model_module_version": "1.2.0",
          "state": {
            "_view_name": "LayoutView",
            "grid_template_rows": null,
            "right": null,
            "justify_content": null,
            "_view_module": "@jupyter-widgets/base",
            "overflow": null,
            "_model_module_version": "1.2.0",
            "_view_count": null,
            "flex_flow": null,
            "width": null,
            "min_width": null,
            "border": null,
            "align_items": null,
            "bottom": null,
            "_model_module": "@jupyter-widgets/base",
            "top": null,
            "grid_column": null,
            "overflow_y": null,
            "overflow_x": null,
            "grid_auto_flow": null,
            "grid_area": null,
            "grid_template_columns": null,
            "flex": null,
            "_model_name": "LayoutModel",
            "justify_items": null,
            "grid_row": null,
            "max_height": null,
            "align_content": null,
            "visibility": null,
            "align_self": null,
            "height": null,
            "min_height": null,
            "padding": null,
            "grid_auto_rows": null,
            "grid_gap": null,
            "max_width": null,
            "order": null,
            "_view_module_version": "1.2.0",
            "grid_template_areas": null,
            "object_position": null,
            "object_fit": null,
            "grid_auto_columns": null,
            "margin": null,
            "display": null,
            "left": null
          }
        },
        "7f5bf1645d1f43e0afe44b9ff213aabd": {
          "model_module": "@jupyter-widgets/controls",
          "model_name": "ProgressStyleModel",
          "model_module_version": "1.5.0",
          "state": {
            "_view_name": "StyleView",
            "_model_name": "ProgressStyleModel",
            "description_width": "",
            "_view_module": "@jupyter-widgets/base",
            "_model_module_version": "1.5.0",
            "_view_count": null,
            "_view_module_version": "1.2.0",
            "bar_color": null,
            "_model_module": "@jupyter-widgets/controls"
          }
        },
        "339d89310dc044b49dc007d3ff8370f4": {
          "model_module": "@jupyter-widgets/base",
          "model_name": "LayoutModel",
          "model_module_version": "1.2.0",
          "state": {
            "_view_name": "LayoutView",
            "grid_template_rows": null,
            "right": null,
            "justify_content": null,
            "_view_module": "@jupyter-widgets/base",
            "overflow": null,
            "_model_module_version": "1.2.0",
            "_view_count": null,
            "flex_flow": null,
            "width": null,
            "min_width": null,
            "border": null,
            "align_items": null,
            "bottom": null,
            "_model_module": "@jupyter-widgets/base",
            "top": null,
            "grid_column": null,
            "overflow_y": null,
            "overflow_x": null,
            "grid_auto_flow": null,
            "grid_area": null,
            "grid_template_columns": null,
            "flex": null,
            "_model_name": "LayoutModel",
            "justify_items": null,
            "grid_row": null,
            "max_height": null,
            "align_content": null,
            "visibility": null,
            "align_self": null,
            "height": null,
            "min_height": null,
            "padding": null,
            "grid_auto_rows": null,
            "grid_gap": null,
            "max_width": null,
            "order": null,
            "_view_module_version": "1.2.0",
            "grid_template_areas": null,
            "object_position": null,
            "object_fit": null,
            "grid_auto_columns": null,
            "margin": null,
            "display": null,
            "left": null
          }
        },
        "049c2ee7225e44e5a9a413dfbe96e918": {
          "model_module": "@jupyter-widgets/controls",
          "model_name": "DescriptionStyleModel",
          "model_module_version": "1.5.0",
          "state": {
            "_view_name": "StyleView",
            "_model_name": "DescriptionStyleModel",
            "description_width": "",
            "_view_module": "@jupyter-widgets/base",
            "_model_module_version": "1.5.0",
            "_view_count": null,
            "_view_module_version": "1.2.0",
            "_model_module": "@jupyter-widgets/controls"
          }
        },
        "a1e305143de047a1b2da0b36d08704e1": {
          "model_module": "@jupyter-widgets/base",
          "model_name": "LayoutModel",
          "model_module_version": "1.2.0",
          "state": {
            "_view_name": "LayoutView",
            "grid_template_rows": null,
            "right": null,
            "justify_content": null,
            "_view_module": "@jupyter-widgets/base",
            "overflow": null,
            "_model_module_version": "1.2.0",
            "_view_count": null,
            "flex_flow": null,
            "width": null,
            "min_width": null,
            "border": null,
            "align_items": null,
            "bottom": null,
            "_model_module": "@jupyter-widgets/base",
            "top": null,
            "grid_column": null,
            "overflow_y": null,
            "overflow_x": null,
            "grid_auto_flow": null,
            "grid_area": null,
            "grid_template_columns": null,
            "flex": null,
            "_model_name": "LayoutModel",
            "justify_items": null,
            "grid_row": null,
            "max_height": null,
            "align_content": null,
            "visibility": null,
            "align_self": null,
            "height": null,
            "min_height": null,
            "padding": null,
            "grid_auto_rows": null,
            "grid_gap": null,
            "max_width": null,
            "order": null,
            "_view_module_version": "1.2.0",
            "grid_template_areas": null,
            "object_position": null,
            "object_fit": null,
            "grid_auto_columns": null,
            "margin": null,
            "display": null,
            "left": null
          }
        }
      }
    }
  },
  "cells": [
    {
      "cell_type": "code",
      "metadata": {
        "colab": {
          "base_uri": "https://localhost:8080/"
        },
        "id": "ESNz2PM1SNuw",
        "outputId": "832f0c8c-7d8b-4a73-96e0-c1c802aa84b0"
      },
      "source": [
        "!pip install git+https://git@github.com/SKTBrain/KoBERT.git@master\n",
        "!git clone https://github.com/SKTBrain/KoBERT.git\n",
        "!pip install -r /content/KoBERT/requirements.txt"
      ],
      "execution_count": null,
      "outputs": [
        {
          "output_type": "stream",
          "text": [
            "Collecting git+https://****@github.com/SKTBrain/KoBERT.git@master\n",
            "  Cloning https://****@github.com/SKTBrain/KoBERT.git (to revision master) to /tmp/pip-req-build-suiizb0y\n",
            "  Running command git clone -q 'https://****@github.com/SKTBrain/KoBERT.git' /tmp/pip-req-build-suiizb0y\n",
            "Cloning into 'KoBERT'...\n",
            "remote: Enumerating objects: 231, done.\u001b[K\n",
            "remote: Counting objects: 100% (76/76), done.\u001b[K\n",
            "remote: Compressing objects: 100% (62/62), done.\u001b[K\n",
            "remote: Total 231 (delta 33), reused 30 (delta 12), pack-reused 155\u001b[K\n",
            "Receiving objects: 100% (231/231), 199.27 KiB | 1.92 MiB/s, done.\n",
            "Resolving deltas: 100% (115/115), done.\n",
            "Requirement already satisfied: torch>=1.7.0 in /usr/local/lib/python3.7/dist-packages (from -r /content/KoBERT/requirements.txt (line 1)) (1.9.0+cu102)\n",
            "Collecting mxnet>=1.4.0\n",
            "  Downloading mxnet-1.8.0.post0-py2.py3-none-manylinux2014_x86_64.whl (46.9 MB)\n",
            "\u001b[K     |████████████████████████████████| 46.9 MB 72 kB/s \n",
            "\u001b[?25hCollecting gluonnlp>=0.6.0\n",
            "  Downloading gluonnlp-0.10.0.tar.gz (344 kB)\n",
            "\u001b[K     |████████████████████████████████| 344 kB 46.6 MB/s \n",
            "\u001b[?25hCollecting sentencepiece>=0.1.6\n",
            "  Downloading sentencepiece-0.1.96-cp37-cp37m-manylinux_2_17_x86_64.manylinux2014_x86_64.whl (1.2 MB)\n",
            "\u001b[K     |████████████████████████████████| 1.2 MB 46.3 MB/s \n",
            "\u001b[?25hCollecting onnxruntime>=0.3.0\n",
            "  Downloading onnxruntime-1.8.1-cp37-cp37m-manylinux_2_17_x86_64.manylinux2014_x86_64.whl (4.5 MB)\n",
            "\u001b[K     |████████████████████████████████| 4.5 MB 47.8 MB/s \n",
            "\u001b[?25hCollecting transformers<4\n",
            "  Downloading transformers-3.5.1-py3-none-any.whl (1.3 MB)\n",
            "\u001b[K     |████████████████████████████████| 1.3 MB 42.8 MB/s \n",
            "\u001b[?25hRequirement already satisfied: typing-extensions in /usr/local/lib/python3.7/dist-packages (from torch>=1.7.0->-r /content/KoBERT/requirements.txt (line 1)) (3.7.4.3)\n",
            "Requirement already satisfied: requests<3,>=2.20.0 in /usr/local/lib/python3.7/dist-packages (from mxnet>=1.4.0->-r /content/KoBERT/requirements.txt (line 2)) (2.23.0)\n",
            "Collecting graphviz<0.9.0,>=0.8.1\n",
            "  Downloading graphviz-0.8.4-py2.py3-none-any.whl (16 kB)\n",
            "Requirement already satisfied: numpy<2.0.0,>1.16.0 in /usr/local/lib/python3.7/dist-packages (from mxnet>=1.4.0->-r /content/KoBERT/requirements.txt (line 2)) (1.19.5)\n",
            "Requirement already satisfied: cython in /usr/local/lib/python3.7/dist-packages (from gluonnlp>=0.6.0->-r /content/KoBERT/requirements.txt (line 3)) (0.29.23)\n",
            "Requirement already satisfied: packaging in /usr/local/lib/python3.7/dist-packages (from gluonnlp>=0.6.0->-r /content/KoBERT/requirements.txt (line 3)) (21.0)\n",
            "Requirement already satisfied: flatbuffers in /usr/local/lib/python3.7/dist-packages (from onnxruntime>=0.3.0->-r /content/KoBERT/requirements.txt (line 5)) (1.12)\n",
            "Requirement already satisfied: protobuf in /usr/local/lib/python3.7/dist-packages (from onnxruntime>=0.3.0->-r /content/KoBERT/requirements.txt (line 5)) (3.17.3)\n",
            "Collecting tokenizers==0.9.3\n",
            "  Downloading tokenizers-0.9.3-cp37-cp37m-manylinux1_x86_64.whl (2.9 MB)\n",
            "\u001b[K     |████████████████████████████████| 2.9 MB 45.3 MB/s \n",
            "\u001b[?25hCollecting sentencepiece>=0.1.6\n",
            "  Downloading sentencepiece-0.1.91-cp37-cp37m-manylinux1_x86_64.whl (1.1 MB)\n",
            "\u001b[K     |████████████████████████████████| 1.1 MB 49.5 MB/s \n",
            "\u001b[?25hRequirement already satisfied: filelock in /usr/local/lib/python3.7/dist-packages (from transformers<4->-r /content/KoBERT/requirements.txt (line 6)) (3.0.12)\n",
            "Collecting sacremoses\n",
            "  Downloading sacremoses-0.0.45-py3-none-any.whl (895 kB)\n",
            "\u001b[K     |████████████████████████████████| 895 kB 65.7 MB/s \n",
            "\u001b[?25hRequirement already satisfied: regex!=2019.12.17 in /usr/local/lib/python3.7/dist-packages (from transformers<4->-r /content/KoBERT/requirements.txt (line 6)) (2019.12.20)\n",
            "Requirement already satisfied: tqdm>=4.27 in /usr/local/lib/python3.7/dist-packages (from transformers<4->-r /content/KoBERT/requirements.txt (line 6)) (4.41.1)\n",
            "Requirement already satisfied: certifi>=2017.4.17 in /usr/local/lib/python3.7/dist-packages (from requests<3,>=2.20.0->mxnet>=1.4.0->-r /content/KoBERT/requirements.txt (line 2)) (2021.5.30)\n",
            "Requirement already satisfied: urllib3!=1.25.0,!=1.25.1,<1.26,>=1.21.1 in /usr/local/lib/python3.7/dist-packages (from requests<3,>=2.20.0->mxnet>=1.4.0->-r /content/KoBERT/requirements.txt (line 2)) (1.24.3)\n",
            "Requirement already satisfied: chardet<4,>=3.0.2 in /usr/local/lib/python3.7/dist-packages (from requests<3,>=2.20.0->mxnet>=1.4.0->-r /content/KoBERT/requirements.txt (line 2)) (3.0.4)\n",
            "Requirement already satisfied: idna<3,>=2.5 in /usr/local/lib/python3.7/dist-packages (from requests<3,>=2.20.0->mxnet>=1.4.0->-r /content/KoBERT/requirements.txt (line 2)) (2.10)\n",
            "Requirement already satisfied: pyparsing>=2.0.2 in /usr/local/lib/python3.7/dist-packages (from packaging->gluonnlp>=0.6.0->-r /content/KoBERT/requirements.txt (line 3)) (2.4.7)\n",
            "Requirement already satisfied: six>=1.9 in /usr/local/lib/python3.7/dist-packages (from protobuf->onnxruntime>=0.3.0->-r /content/KoBERT/requirements.txt (line 5)) (1.15.0)\n",
            "Requirement already satisfied: joblib in /usr/local/lib/python3.7/dist-packages (from sacremoses->transformers<4->-r /content/KoBERT/requirements.txt (line 6)) (1.0.1)\n",
            "Requirement already satisfied: click in /usr/local/lib/python3.7/dist-packages (from sacremoses->transformers<4->-r /content/KoBERT/requirements.txt (line 6)) (7.1.2)\n",
            "Building wheels for collected packages: gluonnlp\n",
            "  Building wheel for gluonnlp (setup.py) ... \u001b[?25l\u001b[?25hdone\n",
            "  Created wheel for gluonnlp: filename=gluonnlp-0.10.0-cp37-cp37m-linux_x86_64.whl size=595721 sha256=b2bf3d8a718dd02a2eacdf20453129523e4ef327578af434209450183857a7d3\n",
            "  Stored in directory: /root/.cache/pip/wheels/be/b4/06/7f3fdfaf707e6b5e98b79c041e023acffbe395d78a527eae00\n",
            "Successfully built gluonnlp\n",
            "Installing collected packages: tokenizers, sentencepiece, sacremoses, graphviz, transformers, onnxruntime, mxnet, gluonnlp\n",
            "  Attempting uninstall: graphviz\n",
            "    Found existing installation: graphviz 0.10.1\n",
            "    Uninstalling graphviz-0.10.1:\n",
            "      Successfully uninstalled graphviz-0.10.1\n",
            "Successfully installed gluonnlp-0.10.0 graphviz-0.8.4 mxnet-1.8.0.post0 onnxruntime-1.8.1 sacremoses-0.0.45 sentencepiece-0.1.91 tokenizers-0.9.3 transformers-3.5.1\n",
            "\u001b[31mERROR: Directory '.' is not installable. Neither 'setup.py' nor 'pyproject.toml' found.\u001b[0m\n"
          ],
          "name": "stdout"
        }
      ]
    },
    {
      "cell_type": "code",
      "metadata": {
        "colab": {
          "base_uri": "https://localhost:8080/"
        },
        "id": "Dl1ituhASPB3",
        "outputId": "39006751-edb6-4af8-e335-8fba8ef09e10"
      },
      "source": [
        "from gluonnlp.data import SentencepieceTokenizer\n",
        "from kobert.utils import get_tokenizer\n",
        "tok_path = get_tokenizer()\n",
        "sp  = SentencepieceTokenizer(tok_path)\n",
        "sp('도시적 맥락주의에 입각한 항만공간의 지속가능한 방재안전 및 생태환경 조성과 경제적')"
      ],
      "execution_count": null,
      "outputs": [
        {
          "output_type": "stream",
          "text": [
            "using cached model\n"
          ],
          "name": "stdout"
        },
        {
          "output_type": "execute_result",
          "data": {
            "text/plain": [
              "['▁도시',\n",
              " '적',\n",
              " '▁',\n",
              " '맥',\n",
              " '락',\n",
              " '주의',\n",
              " '에',\n",
              " '▁입',\n",
              " '각',\n",
              " '한',\n",
              " '▁항',\n",
              " '만',\n",
              " '공간',\n",
              " '의',\n",
              " '▁지속',\n",
              " '가',\n",
              " '능',\n",
              " '한',\n",
              " '▁방',\n",
              " '재',\n",
              " '안전',\n",
              " '▁및',\n",
              " '▁생',\n",
              " '태',\n",
              " '환경',\n",
              " '▁조성',\n",
              " '과',\n",
              " '▁경제적']"
            ]
          },
          "metadata": {
            "tags": []
          },
          "execution_count": 9
        }
      ]
    },
    {
      "cell_type": "code",
      "metadata": {
        "id": "RoydbpycSPIM"
      },
      "source": [
        ""
      ],
      "execution_count": null,
      "outputs": []
    },
    {
      "cell_type": "code",
      "metadata": {
        "id": "v3FvdMlRSPKU"
      },
      "source": [
        ""
      ],
      "execution_count": null,
      "outputs": []
    },
    {
      "cell_type": "code",
      "metadata": {
        "id": "VtjqmTu6SPMz"
      },
      "source": [
        ""
      ],
      "execution_count": null,
      "outputs": []
    },
    {
      "cell_type": "code",
      "metadata": {
        "id": "wzwvTz1lSPPb"
      },
      "source": [
        ""
      ],
      "execution_count": null,
      "outputs": []
    },
    {
      "cell_type": "code",
      "metadata": {
        "colab": {
          "base_uri": "https://localhost:8080/",
          "height": 198
        },
        "id": "fIoeVSstcfVX",
        "outputId": "693a6841-e46d-4214-e341-776d4a4b6f32"
      },
      "source": [
        "from tensorflow.python.client import device_lib\n",
        "\n",
        "def get_available_gpus():\n",
        "    local_device_protos = device_lib.list_local_devices()\n",
        "    return [ x.physical_device_desc for x in local_device_protos if x.device_type == 'GPU']\n",
        "\n",
        "has_V100 = False\n",
        "gpus = get_available_gpus()\n",
        "for gpu in gpus:\n",
        "    if gpu.find('Tesla V100')!=-1:\n",
        "        has_V100=True\n",
        "\n",
        "if not has_V100:\n",
        "    raise ValueError"
      ],
      "execution_count": null,
      "outputs": [
        {
          "output_type": "error",
          "ename": "ValueError",
          "evalue": "ignored",
          "traceback": [
            "\u001b[0;31m---------------------------------------------------------------------------\u001b[0m",
            "\u001b[0;31mValueError\u001b[0m                                Traceback (most recent call last)",
            "\u001b[0;32m<ipython-input-1-57e4a42d6348>\u001b[0m in \u001b[0;36m<module>\u001b[0;34m()\u001b[0m\n\u001b[1;32m     12\u001b[0m \u001b[0;34m\u001b[0m\u001b[0m\n\u001b[1;32m     13\u001b[0m \u001b[0;32mif\u001b[0m \u001b[0;32mnot\u001b[0m \u001b[0mhas_V100\u001b[0m\u001b[0;34m:\u001b[0m\u001b[0;34m\u001b[0m\u001b[0;34m\u001b[0m\u001b[0m\n\u001b[0;32m---> 14\u001b[0;31m     \u001b[0;32mraise\u001b[0m \u001b[0mValueError\u001b[0m\u001b[0;34m\u001b[0m\u001b[0;34m\u001b[0m\u001b[0m\n\u001b[0m",
            "\u001b[0;31mValueError\u001b[0m: "
          ]
        }
      ]
    },
    {
      "cell_type": "code",
      "metadata": {
        "colab": {
          "base_uri": "https://localhost:8080/"
        },
        "id": "SJ9os35Jdyxu",
        "outputId": "a807b27a-8a8f-4988-9ae1-495ecdcbbb4f"
      },
      "source": [
        "!nvidia-smi"
      ],
      "execution_count": 1,
      "outputs": [
        {
          "output_type": "stream",
          "text": [
            "Tue Aug 17 23:00:49 2021       \n",
            "+-----------------------------------------------------------------------------+\n",
            "| NVIDIA-SMI 470.57.02    Driver Version: 460.32.03    CUDA Version: 11.2     |\n",
            "|-------------------------------+----------------------+----------------------+\n",
            "| GPU  Name        Persistence-M| Bus-Id        Disp.A | Volatile Uncorr. ECC |\n",
            "| Fan  Temp  Perf  Pwr:Usage/Cap|         Memory-Usage | GPU-Util  Compute M. |\n",
            "|                               |                      |               MIG M. |\n",
            "|===============================+======================+======================|\n",
            "|   0  Tesla P100-PCIE...  Off  | 00000000:00:04.0 Off |                    0 |\n",
            "| N/A   39C    P0    27W / 250W |      0MiB / 16280MiB |      0%      Default |\n",
            "|                               |                      |                  N/A |\n",
            "+-------------------------------+----------------------+----------------------+\n",
            "                                                                               \n",
            "+-----------------------------------------------------------------------------+\n",
            "| Processes:                                                                  |\n",
            "|  GPU   GI   CI        PID   Type   Process name                  GPU Memory |\n",
            "|        ID   ID                                                   Usage      |\n",
            "|=============================================================================|\n",
            "|  No running processes found                                                 |\n",
            "+-----------------------------------------------------------------------------+\n"
          ],
          "name": "stdout"
        }
      ]
    },
    {
      "cell_type": "code",
      "metadata": {
        "colab": {
          "base_uri": "https://localhost:8080/"
        },
        "id": "TMwsP2gEQHuN",
        "outputId": "2df962f7-d518-4837-fcf7-f45c9ed1f55a"
      },
      "source": [
        "!pip install sentencepiece==0.1.85\n",
        "!pip install tokenizers==0.8.1.rc1"
      ],
      "execution_count": 2,
      "outputs": [
        {
          "output_type": "stream",
          "text": [
            "Collecting sentencepiece==0.1.85\n",
            "  Downloading sentencepiece-0.1.85-cp37-cp37m-manylinux1_x86_64.whl (1.0 MB)\n",
            "\u001b[?25l\r\u001b[K     |▎                               | 10 kB 38.0 MB/s eta 0:00:01\r\u001b[K     |▋                               | 20 kB 33.7 MB/s eta 0:00:01\r\u001b[K     |█                               | 30 kB 19.6 MB/s eta 0:00:01\r\u001b[K     |█▎                              | 40 kB 16.3 MB/s eta 0:00:01\r\u001b[K     |█▋                              | 51 kB 8.5 MB/s eta 0:00:01\r\u001b[K     |██                              | 61 kB 8.4 MB/s eta 0:00:01\r\u001b[K     |██▏                             | 71 kB 8.7 MB/s eta 0:00:01\r\u001b[K     |██▌                             | 81 kB 9.7 MB/s eta 0:00:01\r\u001b[K     |██▉                             | 92 kB 10.0 MB/s eta 0:00:01\r\u001b[K     |███▏                            | 102 kB 8.0 MB/s eta 0:00:01\r\u001b[K     |███▌                            | 112 kB 8.0 MB/s eta 0:00:01\r\u001b[K     |███▉                            | 122 kB 8.0 MB/s eta 0:00:01\r\u001b[K     |████                            | 133 kB 8.0 MB/s eta 0:00:01\r\u001b[K     |████▍                           | 143 kB 8.0 MB/s eta 0:00:01\r\u001b[K     |████▊                           | 153 kB 8.0 MB/s eta 0:00:01\r\u001b[K     |█████                           | 163 kB 8.0 MB/s eta 0:00:01\r\u001b[K     |█████▍                          | 174 kB 8.0 MB/s eta 0:00:01\r\u001b[K     |█████▊                          | 184 kB 8.0 MB/s eta 0:00:01\r\u001b[K     |██████                          | 194 kB 8.0 MB/s eta 0:00:01\r\u001b[K     |██████▎                         | 204 kB 8.0 MB/s eta 0:00:01\r\u001b[K     |██████▋                         | 215 kB 8.0 MB/s eta 0:00:01\r\u001b[K     |███████                         | 225 kB 8.0 MB/s eta 0:00:01\r\u001b[K     |███████▎                        | 235 kB 8.0 MB/s eta 0:00:01\r\u001b[K     |███████▋                        | 245 kB 8.0 MB/s eta 0:00:01\r\u001b[K     |███████▉                        | 256 kB 8.0 MB/s eta 0:00:01\r\u001b[K     |████████▏                       | 266 kB 8.0 MB/s eta 0:00:01\r\u001b[K     |████████▌                       | 276 kB 8.0 MB/s eta 0:00:01\r\u001b[K     |████████▉                       | 286 kB 8.0 MB/s eta 0:00:01\r\u001b[K     |█████████▏                      | 296 kB 8.0 MB/s eta 0:00:01\r\u001b[K     |█████████▌                      | 307 kB 8.0 MB/s eta 0:00:01\r\u001b[K     |█████████▊                      | 317 kB 8.0 MB/s eta 0:00:01\r\u001b[K     |██████████                      | 327 kB 8.0 MB/s eta 0:00:01\r\u001b[K     |██████████▍                     | 337 kB 8.0 MB/s eta 0:00:01\r\u001b[K     |██████████▊                     | 348 kB 8.0 MB/s eta 0:00:01\r\u001b[K     |███████████                     | 358 kB 8.0 MB/s eta 0:00:01\r\u001b[K     |███████████▍                    | 368 kB 8.0 MB/s eta 0:00:01\r\u001b[K     |███████████▋                    | 378 kB 8.0 MB/s eta 0:00:01\r\u001b[K     |████████████                    | 389 kB 8.0 MB/s eta 0:00:01\r\u001b[K     |████████████▎                   | 399 kB 8.0 MB/s eta 0:00:01\r\u001b[K     |████████████▋                   | 409 kB 8.0 MB/s eta 0:00:01\r\u001b[K     |█████████████                   | 419 kB 8.0 MB/s eta 0:00:01\r\u001b[K     |█████████████▎                  | 430 kB 8.0 MB/s eta 0:00:01\r\u001b[K     |█████████████▌                  | 440 kB 8.0 MB/s eta 0:00:01\r\u001b[K     |█████████████▉                  | 450 kB 8.0 MB/s eta 0:00:01\r\u001b[K     |██████████████▏                 | 460 kB 8.0 MB/s eta 0:00:01\r\u001b[K     |██████████████▌                 | 471 kB 8.0 MB/s eta 0:00:01\r\u001b[K     |██████████████▉                 | 481 kB 8.0 MB/s eta 0:00:01\r\u001b[K     |███████████████▏                | 491 kB 8.0 MB/s eta 0:00:01\r\u001b[K     |███████████████▍                | 501 kB 8.0 MB/s eta 0:00:01\r\u001b[K     |███████████████▊                | 512 kB 8.0 MB/s eta 0:00:01\r\u001b[K     |████████████████                | 522 kB 8.0 MB/s eta 0:00:01\r\u001b[K     |████████████████▍               | 532 kB 8.0 MB/s eta 0:00:01\r\u001b[K     |████████████████▊               | 542 kB 8.0 MB/s eta 0:00:01\r\u001b[K     |█████████████████               | 552 kB 8.0 MB/s eta 0:00:01\r\u001b[K     |█████████████████▎              | 563 kB 8.0 MB/s eta 0:00:01\r\u001b[K     |█████████████████▋              | 573 kB 8.0 MB/s eta 0:00:01\r\u001b[K     |██████████████████              | 583 kB 8.0 MB/s eta 0:00:01\r\u001b[K     |██████████████████▎             | 593 kB 8.0 MB/s eta 0:00:01\r\u001b[K     |██████████████████▋             | 604 kB 8.0 MB/s eta 0:00:01\r\u001b[K     |███████████████████             | 614 kB 8.0 MB/s eta 0:00:01\r\u001b[K     |███████████████████▏            | 624 kB 8.0 MB/s eta 0:00:01\r\u001b[K     |███████████████████▌            | 634 kB 8.0 MB/s eta 0:00:01\r\u001b[K     |███████████████████▉            | 645 kB 8.0 MB/s eta 0:00:01\r\u001b[K     |████████████████████▏           | 655 kB 8.0 MB/s eta 0:00:01\r\u001b[K     |████████████████████▌           | 665 kB 8.0 MB/s eta 0:00:01\r\u001b[K     |████████████████████▉           | 675 kB 8.0 MB/s eta 0:00:01\r\u001b[K     |█████████████████████▏          | 686 kB 8.0 MB/s eta 0:00:01\r\u001b[K     |█████████████████████▍          | 696 kB 8.0 MB/s eta 0:00:01\r\u001b[K     |█████████████████████▊          | 706 kB 8.0 MB/s eta 0:00:01\r\u001b[K     |██████████████████████          | 716 kB 8.0 MB/s eta 0:00:01\r\u001b[K     |██████████████████████▍         | 727 kB 8.0 MB/s eta 0:00:01\r\u001b[K     |██████████████████████▊         | 737 kB 8.0 MB/s eta 0:00:01\r\u001b[K     |███████████████████████         | 747 kB 8.0 MB/s eta 0:00:01\r\u001b[K     |███████████████████████▎        | 757 kB 8.0 MB/s eta 0:00:01\r\u001b[K     |███████████████████████▋        | 768 kB 8.0 MB/s eta 0:00:01\r\u001b[K     |████████████████████████        | 778 kB 8.0 MB/s eta 0:00:01\r\u001b[K     |████████████████████████▎       | 788 kB 8.0 MB/s eta 0:00:01\r\u001b[K     |████████████████████████▋       | 798 kB 8.0 MB/s eta 0:00:01\r\u001b[K     |█████████████████████████       | 808 kB 8.0 MB/s eta 0:00:01\r\u001b[K     |█████████████████████████▏      | 819 kB 8.0 MB/s eta 0:00:01\r\u001b[K     |█████████████████████████▌      | 829 kB 8.0 MB/s eta 0:00:01\r\u001b[K     |█████████████████████████▉      | 839 kB 8.0 MB/s eta 0:00:01\r\u001b[K     |██████████████████████████▏     | 849 kB 8.0 MB/s eta 0:00:01\r\u001b[K     |██████████████████████████▌     | 860 kB 8.0 MB/s eta 0:00:01\r\u001b[K     |██████████████████████████▉     | 870 kB 8.0 MB/s eta 0:00:01\r\u001b[K     |███████████████████████████     | 880 kB 8.0 MB/s eta 0:00:01\r\u001b[K     |███████████████████████████▍    | 890 kB 8.0 MB/s eta 0:00:01\r\u001b[K     |███████████████████████████▊    | 901 kB 8.0 MB/s eta 0:00:01\r\u001b[K     |████████████████████████████    | 911 kB 8.0 MB/s eta 0:00:01\r\u001b[K     |████████████████████████████▍   | 921 kB 8.0 MB/s eta 0:00:01\r\u001b[K     |████████████████████████████▊   | 931 kB 8.0 MB/s eta 0:00:01\r\u001b[K     |█████████████████████████████   | 942 kB 8.0 MB/s eta 0:00:01\r\u001b[K     |█████████████████████████████▎  | 952 kB 8.0 MB/s eta 0:00:01\r\u001b[K     |█████████████████████████████▋  | 962 kB 8.0 MB/s eta 0:00:01\r\u001b[K     |██████████████████████████████  | 972 kB 8.0 MB/s eta 0:00:01\r\u001b[K     |██████████████████████████████▎ | 983 kB 8.0 MB/s eta 0:00:01\r\u001b[K     |██████████████████████████████▋ | 993 kB 8.0 MB/s eta 0:00:01\r\u001b[K     |██████████████████████████████▉ | 1.0 MB 8.0 MB/s eta 0:00:01\r\u001b[K     |███████████████████████████████▏| 1.0 MB 8.0 MB/s eta 0:00:01\r\u001b[K     |███████████████████████████████▌| 1.0 MB 8.0 MB/s eta 0:00:01\r\u001b[K     |███████████████████████████████▉| 1.0 MB 8.0 MB/s eta 0:00:01\r\u001b[K     |████████████████████████████████| 1.0 MB 8.0 MB/s \n",
            "\u001b[?25hInstalling collected packages: sentencepiece\n",
            "Successfully installed sentencepiece-0.1.85\n",
            "Collecting tokenizers==0.8.1.rc1\n",
            "  Downloading tokenizers-0.8.1rc1-cp37-cp37m-manylinux1_x86_64.whl (3.0 MB)\n",
            "\u001b[K     |████████████████████████████████| 3.0 MB 7.9 MB/s \n",
            "\u001b[?25hInstalling collected packages: tokenizers\n",
            "Successfully installed tokenizers-0.8.1rc1\n"
          ],
          "name": "stdout"
        }
      ]
    },
    {
      "cell_type": "code",
      "metadata": {
        "id": "EGyItupbM6VI",
        "colab": {
          "base_uri": "https://localhost:8080/"
        },
        "outputId": "262c6696-663c-42d3-8b73-4c8a93756ebc"
      },
      "source": [
        "!pip install transformers==3.0.2"
      ],
      "execution_count": 3,
      "outputs": [
        {
          "output_type": "stream",
          "text": [
            "Collecting transformers==3.0.2\n",
            "  Downloading transformers-3.0.2-py3-none-any.whl (769 kB)\n",
            "\u001b[K     |████████████████████████████████| 769 kB 8.3 MB/s \n",
            "\u001b[?25hRequirement already satisfied: numpy in /usr/local/lib/python3.7/dist-packages (from transformers==3.0.2) (1.19.5)\n",
            "Requirement already satisfied: requests in /usr/local/lib/python3.7/dist-packages (from transformers==3.0.2) (2.23.0)\n",
            "Requirement already satisfied: packaging in /usr/local/lib/python3.7/dist-packages (from transformers==3.0.2) (21.0)\n",
            "Requirement already satisfied: regex!=2019.12.17 in /usr/local/lib/python3.7/dist-packages (from transformers==3.0.2) (2019.12.20)\n",
            "Requirement already satisfied: filelock in /usr/local/lib/python3.7/dist-packages (from transformers==3.0.2) (3.0.12)\n",
            "Requirement already satisfied: tokenizers==0.8.1.rc1 in /usr/local/lib/python3.7/dist-packages (from transformers==3.0.2) (0.8.1rc1)\n",
            "Requirement already satisfied: tqdm>=4.27 in /usr/local/lib/python3.7/dist-packages (from transformers==3.0.2) (4.62.0)\n",
            "Collecting sacremoses\n",
            "  Downloading sacremoses-0.0.45-py3-none-any.whl (895 kB)\n",
            "\u001b[K     |████████████████████████████████| 895 kB 17.8 MB/s \n",
            "\u001b[?25hRequirement already satisfied: sentencepiece!=0.1.92 in /usr/local/lib/python3.7/dist-packages (from transformers==3.0.2) (0.1.85)\n",
            "Requirement already satisfied: pyparsing>=2.0.2 in /usr/local/lib/python3.7/dist-packages (from packaging->transformers==3.0.2) (2.4.7)\n",
            "Requirement already satisfied: chardet<4,>=3.0.2 in /usr/local/lib/python3.7/dist-packages (from requests->transformers==3.0.2) (3.0.4)\n",
            "Requirement already satisfied: idna<3,>=2.5 in /usr/local/lib/python3.7/dist-packages (from requests->transformers==3.0.2) (2.10)\n",
            "Requirement already satisfied: urllib3!=1.25.0,!=1.25.1,<1.26,>=1.21.1 in /usr/local/lib/python3.7/dist-packages (from requests->transformers==3.0.2) (1.24.3)\n",
            "Requirement already satisfied: certifi>=2017.4.17 in /usr/local/lib/python3.7/dist-packages (from requests->transformers==3.0.2) (2021.5.30)\n",
            "Requirement already satisfied: click in /usr/local/lib/python3.7/dist-packages (from sacremoses->transformers==3.0.2) (7.1.2)\n",
            "Requirement already satisfied: joblib in /usr/local/lib/python3.7/dist-packages (from sacremoses->transformers==3.0.2) (1.0.1)\n",
            "Requirement already satisfied: six in /usr/local/lib/python3.7/dist-packages (from sacremoses->transformers==3.0.2) (1.15.0)\n",
            "Installing collected packages: sacremoses, transformers\n",
            "Successfully installed sacremoses-0.0.45 transformers-3.0.2\n"
          ],
          "name": "stdout"
        }
      ]
    },
    {
      "cell_type": "code",
      "metadata": {
        "id": "jdaS-NZ7L4Iy"
      },
      "source": [
        "import pandas as pd\n",
        "import numpy as np\n",
        "import matplotlib.pyplot as plt\n",
        "import re\n",
        "import json\n",
        "import os\n",
        "import tqdm\n",
        "\n",
        "import sklearn\n",
        "from sklearn.preprocessing import LabelEncoder\n",
        "\n",
        "from sklearn.metrics import log_loss, accuracy_score,f1_score\n",
        "import tensorflow as tf\n",
        "from tensorflow.keras.preprocessing.sequence import pad_sequences\n",
        "from tensorflow.keras.preprocessing.text import Tokenizer\n",
        "from tensorflow.keras.callbacks import EarlyStopping, ModelCheckpoint\n",
        "\n",
        "from transformers import *"
      ],
      "execution_count": 4,
      "outputs": []
    },
    {
      "cell_type": "code",
      "metadata": {
        "colab": {
          "base_uri": "https://localhost:8080/"
        },
        "id": "fRVWsMbKOsIg",
        "outputId": "109073b9-91dc-4690-c513-06b60c24277f"
      },
      "source": [
        "from google.colab import drive\n",
        "drive.mount('/content/drive')"
      ],
      "execution_count": 5,
      "outputs": [
        {
          "output_type": "stream",
          "text": [
            "Drive already mounted at /content/drive; to attempt to forcibly remount, call drive.mount(\"/content/drive\", force_remount=True).\n"
          ],
          "name": "stdout"
        }
      ]
    },
    {
      "cell_type": "code",
      "metadata": {
        "id": "iSZ2Nm8AM3FX"
      },
      "source": [
        "file_path = '/content/drive/MyDrive/dataset/dacon/technic_classifier/'\n",
        "\n",
        "train=pd.read_csv(file_path+'fixed_okt_train.csv')\n",
        "test=pd.read_csv(file_path+'fixed_okt_test.csv')\n",
        "sample_submission=pd.read_csv(file_path+'sample_submission.csv')"
      ],
      "execution_count": 6,
      "outputs": []
    },
    {
      "cell_type": "code",
      "metadata": {
        "colab": {
          "base_uri": "https://localhost:8080/",
          "height": 589
        },
        "id": "5AbtKH7WunAr",
        "outputId": "6ba1bd5c-d56c-4c00-a637-712e4805dbdf"
      },
      "source": [
        "train"
      ],
      "execution_count": null,
      "outputs": [
        {
          "output_type": "execute_result",
          "data": {
            "text/html": [
              "<div>\n",
              "<style scoped>\n",
              "    .dataframe tbody tr th:only-of-type {\n",
              "        vertical-align: middle;\n",
              "    }\n",
              "\n",
              "    .dataframe tbody tr th {\n",
              "        vertical-align: top;\n",
              "    }\n",
              "\n",
              "    .dataframe thead th {\n",
              "        text-align: right;\n",
              "    }\n",
              "</style>\n",
              "<table border=\"1\" class=\"dataframe\">\n",
              "  <thead>\n",
              "    <tr style=\"text-align: right;\">\n",
              "      <th></th>\n",
              "      <th>index</th>\n",
              "      <th>label</th>\n",
              "      <th>okt_과제명</th>\n",
              "      <th>okt_내역사업명</th>\n",
              "      <th>okt_요약문_한글키워드</th>\n",
              "      <th>okt_요약문_연구목표</th>\n",
              "      <th>token_요약문_연구목표</th>\n",
              "    </tr>\n",
              "  </thead>\n",
              "  <tbody>\n",
              "    <tr>\n",
              "      <th>0</th>\n",
              "      <td>0</td>\n",
              "      <td>24</td>\n",
              "      <td>['유전', '정보', '해충', '분류군', '동정']</td>\n",
              "      <td>['농산물', '안전성']</td>\n",
              "      <td>['뉴클레오티드', '염기서열', '분자', '종', '동정', '침샘', '전사체']</td>\n",
              "      <td>['해충', '분류군', '동정', '유입', '확산', '추적']</td>\n",
              "      <td>[('새로운', 'Adjective'), ('해충', 'Noun'), ('분류군',...</td>\n",
              "    </tr>\n",
              "    <tr>\n",
              "      <th>1</th>\n",
              "      <td>1</td>\n",
              "      <td>0</td>\n",
              "      <td>['대장암', 'trail', '내성', '표적', '인자', '발굴', 'trai...</td>\n",
              "      <td>['지역', '대학', '우수', '과학자', '지원', '사업', '년년']</td>\n",
              "      <td>['대장암', '항암제', '내성', '세포', '사멸', '유전자', '발굴']</td>\n",
              "      <td>['trail', '감수성', '표적', '유전자', '발굴', '내성', '제어'...</td>\n",
              "      <td>[('최종', 'Noun'), ('목표', 'Noun'), ('trail', 'Al...</td>\n",
              "    </tr>\n",
              "    <tr>\n",
              "      <th>2</th>\n",
              "      <td>2</td>\n",
              "      <td>0</td>\n",
              "      <td>['비목', '셀룰로오스', '식물', '자원', '기능성', '부직포', '고부가...</td>\n",
              "      <td>['혁신', '기업']</td>\n",
              "      <td>['기능성', '룰', '오스', '파이버', '천연섬유', '기능성', '부직포'...</td>\n",
              "      <td>['식물계', '자원', '정련', '최적', '신서', '란', '파이버', '기...</td>\n",
              "      <td>[('식물계', 'Noun'), ('자원', 'Noun'), ('정련', 'Noun...</td>\n",
              "    </tr>\n",
              "    <tr>\n",
              "      <th>3</th>\n",
              "      <td>3</td>\n",
              "      <td>0</td>\n",
              "      <td>['소화기', '암', '진단', '분자영상', '형광', '프로브']</td>\n",
              "      <td>['창업', '사업화', '연계']</td>\n",
              "      <td>['분자', '진단', '형광', '조영제', '프로브', '항체', '대장암']</td>\n",
              "      <td>['암', '특이적', '바이오', '발굴', '바이오', '프로브', '소화기',...</td>\n",
              "      <td>[('암', 'Modifier'), ('특이', 'Noun'), ('적', 'Suf...</td>\n",
              "    </tr>\n",
              "    <tr>\n",
              "      <th>4</th>\n",
              "      <td>4</td>\n",
              "      <td>0</td>\n",
              "      <td>['위암', '환자', '항암제', '반응', '예측', 'brca', '발현', ...</td>\n",
              "      <td>['기본', '연구지원']</td>\n",
              "      <td>['brca', '제자리', '부', '합법', '조직', '미세', '배열', '...</td>\n",
              "      <td>['수술', '위암', '환자', '생존', '기간', '개월', '안팎', '항'...</td>\n",
              "      <td>[('수술', 'Noun'), ('이', 'Josa'), ('불가능한', 'Adje...</td>\n",
              "    </tr>\n",
              "    <tr>\n",
              "      <th>...</th>\n",
              "      <td>...</td>\n",
              "      <td>...</td>\n",
              "      <td>...</td>\n",
              "      <td>...</td>\n",
              "      <td>...</td>\n",
              "      <td>...</td>\n",
              "      <td>...</td>\n",
              "    </tr>\n",
              "    <tr>\n",
              "      <th>174299</th>\n",
              "      <td>174299</td>\n",
              "      <td>0</td>\n",
              "      <td>['혈관', '내막', '증식', '치료', '표적', '분자', '발굴']</td>\n",
              "      <td>['중견']</td>\n",
              "      <td>['혈관', '내막', '증식', '혈관', '개조', '혈관', '평활', '근세...</td>\n",
              "      <td>['증식성', '혈관', '질환', '염증', '반응', '관련성', '혈관', '...</td>\n",
              "      <td>[('증식', 'Noun'), ('성', 'Suffix'), ('혈관', 'Noun...</td>\n",
              "    </tr>\n",
              "    <tr>\n",
              "      <th>174300</th>\n",
              "      <td>174300</td>\n",
              "      <td>0</td>\n",
              "      <td>['곤란', '물성', '조절', '식품', '유동층', '과립', '복합', '소...</td>\n",
              "      <td>['중견']</td>\n",
              "      <td>['곤란', '유변', '물성', '유동층', '과립', '물리적', '특성', '...</td>\n",
              "      <td>['곤란', '고령자', '식품', '섭취', '유변', '물성', '물성', '조...</td>\n",
              "      <td>[('삼킴', 'Verb'), ('곤란', 'Noun'), ('을', 'Josa')...</td>\n",
              "    </tr>\n",
              "    <tr>\n",
              "      <th>174301</th>\n",
              "      <td>174301</td>\n",
              "      <td>0</td>\n",
              "      <td>['식물', '유전체', '정보', '고도화', '핵심', '유전자', '군', '...</td>\n",
              "      <td>['공분야', '학문', '후속', '세대', '양성', '대통령', 'postdo...</td>\n",
              "      <td>['유전자', '정보', '고도화', '대상', '유전자', '군', '분석', '...</td>\n",
              "      <td>['지난', '동안', '여종', '식물', '유전체', '정보', '완성', '공...</td>\n",
              "      <td>[('지난', 'Noun'), ('년', 'Noun'), ('여', 'Josa'),...</td>\n",
              "    </tr>\n",
              "    <tr>\n",
              "      <th>174302</th>\n",
              "      <td>174302</td>\n",
              "      <td>23</td>\n",
              "      <td>['콩', '유전자원', '내건성', '내습성', '대량', '평가', '체계', ...</td>\n",
              "      <td>['유용', '형질', '대량', '특성', '평가', '육종', '모본', '발굴']</td>\n",
              "      <td>['콩', '가공', '적성', '병', '저항성', '내재해성', '콩', '모자...</td>\n",
              "      <td>['내건', '내습성', '유전자원', '수집', '내건성', '자원', '평가',...</td>\n",
              "      <td>[('내', 'Determiner'), ('건', 'Noun'), ('및', 'No...</td>\n",
              "    </tr>\n",
              "    <tr>\n",
              "      <th>174303</th>\n",
              "      <td>174303</td>\n",
              "      <td>0</td>\n",
              "      <td>['광학적', '위상', '제어', '기법', '적용', '디지털', '홀로그래피'...</td>\n",
              "      <td>['공분야', '학문', '후속', '세대', '양성', '박사', '연수']</td>\n",
              "      <td>['광섬유', '위상', '장금', '위상', '이동', '간섭계', '디지털', ...</td>\n",
              "      <td>['이터븀', '도핑', '특수', '광섬유', '광학적', '방법', '위상', ...</td>\n",
              "      <td>[('본', 'Verb'), ('연구', 'Noun'), ('의', 'Josa'),...</td>\n",
              "    </tr>\n",
              "  </tbody>\n",
              "</table>\n",
              "<p>174304 rows × 7 columns</p>\n",
              "</div>"
            ],
            "text/plain": [
              "         index  ...                                     token_요약문_연구목표\n",
              "0            0  ...  [('새로운', 'Adjective'), ('해충', 'Noun'), ('분류군',...\n",
              "1            1  ...  [('최종', 'Noun'), ('목표', 'Noun'), ('trail', 'Al...\n",
              "2            2  ...  [('식물계', 'Noun'), ('자원', 'Noun'), ('정련', 'Noun...\n",
              "3            3  ...  [('암', 'Modifier'), ('특이', 'Noun'), ('적', 'Suf...\n",
              "4            4  ...  [('수술', 'Noun'), ('이', 'Josa'), ('불가능한', 'Adje...\n",
              "...        ...  ...                                                ...\n",
              "174299  174299  ...  [('증식', 'Noun'), ('성', 'Suffix'), ('혈관', 'Noun...\n",
              "174300  174300  ...  [('삼킴', 'Verb'), ('곤란', 'Noun'), ('을', 'Josa')...\n",
              "174301  174301  ...  [('지난', 'Noun'), ('년', 'Noun'), ('여', 'Josa'),...\n",
              "174302  174302  ...  [('내', 'Determiner'), ('건', 'Noun'), ('및', 'No...\n",
              "174303  174303  ...  [('본', 'Verb'), ('연구', 'Noun'), ('의', 'Josa'),...\n",
              "\n",
              "[174304 rows x 7 columns]"
            ]
          },
          "metadata": {
            "tags": []
          },
          "execution_count": 6
        }
      ]
    },
    {
      "cell_type": "code",
      "metadata": {
        "id": "DIRzmuHJfz8F"
      },
      "source": [
        "def trans_to_list(text):\n",
        "  text = re.sub(\"[\\[\\]\\' ]\", \"\", text)\n",
        "  text =  text.split(',')\n",
        "  if text == ['']:\n",
        "    text = []\n",
        "  return text\n",
        "\n",
        "def cut_sent(text, number):\n",
        "  return text[:number]"
      ],
      "execution_count": 7,
      "outputs": []
    },
    {
      "cell_type": "code",
      "metadata": {
        "id": "dFyA_Aoyfz_W"
      },
      "source": [
        "train['fixed_okt_과제명'] = train['fixed_okt_과제명'].apply(trans_to_list)\n",
        "train['fixed_okt_내역사업명'] = train['fixed_okt_내역사업명'].apply(trans_to_list)\n",
        "train['fixed_okt_요약문_한글키워드'] = train['fixed_okt_요약문_한글키워드'].apply(trans_to_list)\n",
        "train['fixed_okt_요약문_연구목표'] = train['fixed_okt_요약문_연구목표'].apply(trans_to_list)\n",
        "\n",
        "test['fixed_okt_과제명'] = test['fixed_okt_과제명'].apply(trans_to_list)\n",
        "test['fixed_okt_내역사업명'] = test['fixed_okt_내역사업명'].apply(trans_to_list)\n",
        "test['fixed_okt_요약문_한글키워드'] = test['fixed_okt_요약문_한글키워드'].apply(trans_to_list)\n",
        "test['fixed_okt_요약문_연구목표'] = test['fixed_okt_요약문_연구목표'].apply(trans_to_list)"
      ],
      "execution_count": 8,
      "outputs": []
    },
    {
      "cell_type": "code",
      "metadata": {
        "id": "M1MrcWgJDhQ_"
      },
      "source": [
        ""
      ],
      "execution_count": 8,
      "outputs": []
    },
    {
      "cell_type": "code",
      "metadata": {
        "id": "LSi0DJKjDhTX"
      },
      "source": [
        "train['token_data']=train['fixed_okt_내역사업명']+train['fixed_okt_과제명']+train['fixed_okt_요약문_한글키워드']\n",
        "test['token_data']=test['fixed_okt_내역사업명']+test['fixed_okt_과제명']+test['fixed_okt_요약문_한글키워드']"
      ],
      "execution_count": 9,
      "outputs": []
    },
    {
      "cell_type": "code",
      "metadata": {
        "colab": {
          "base_uri": "https://localhost:8080/"
        },
        "id": "Gi1oRL6eptxh",
        "outputId": "1f4b5c33-fce6-41b4-c28d-ed031d4d34f4"
      },
      "source": [
        "train_length = train['token_data'].apply(len)\n",
        "train_length.head()\n",
        "\n",
        "print('인풋 길이 최대 값: {}'.format(np.max(train_length)))\n",
        "print('인풋 길이 최소 값: {}'.format(np.min(train_length)))\n",
        "print('인풋 길이 평균 값: {:.2f}'.format(np.mean(train_length)))\n",
        "print('인풋 길이 표준편차: {:.2f}'.format(np.std(train_length)))\n",
        "print('인풋 길이 중간 값: {}'.format(np.median(train_length)))\n",
        "# 사분위의 대한 경우는 0~100 스케일로 되어있음\n",
        "print('인풋 길이 제 1 사분위: {}'.format(np.percentile(train_length, 25)))\n",
        "print('인풋 길이 제 3 사분위: {}'.format(np.percentile(train_length, 75)))\n",
        "\n",
        "\n",
        "print('인풋 길이 98%: {}'.format(np.percentile(train_length, 98)))"
      ],
      "execution_count": 10,
      "outputs": [
        {
          "output_type": "stream",
          "text": [
            "인풋 길이 최대 값: 77\n",
            "인풋 길이 최소 값: 3\n",
            "인풋 길이 평균 값: 21.39\n",
            "인풋 길이 표준편차: 5.94\n",
            "인풋 길이 중간 값: 21.0\n",
            "인풋 길이 제 1 사분위: 17.0\n",
            "인풋 길이 제 3 사분위: 25.0\n",
            "인풋 길이 98%: 35.0\n"
          ],
          "name": "stdout"
        }
      ]
    },
    {
      "cell_type": "code",
      "metadata": {
        "colab": {
          "base_uri": "https://localhost:8080/"
        },
        "id": "Hn-b-twVq6kn",
        "outputId": "ff936cce-f777-47d5-f8b1-7f98b79f3087"
      },
      "source": [
        "train_length = test['token_data'].apply(len)\n",
        "train_length.head()\n",
        "\n",
        "print('인풋 길이 최대 값: {}'.format(np.max(train_length)))\n",
        "print('인풋 길이 최소 값: {}'.format(np.min(train_length)))\n",
        "print('인풋 길이 평균 값: {:.2f}'.format(np.mean(train_length)))\n",
        "print('인풋 길이 표준편차: {:.2f}'.format(np.std(train_length)))\n",
        "print('인풋 길이 중간 값: {}'.format(np.median(train_length)))\n",
        "# 사분위의 대한 경우는 0~100 스케일로 되어있음\n",
        "print('인풋 길이 제 1 사분위: {}'.format(np.percentile(train_length, 25)))\n",
        "print('인풋 길이 제 3 사분위: {}'.format(np.percentile(train_length, 75)))\n",
        "\n",
        "\n",
        "print('인풋 길이 98%: {}'.format(np.percentile(train_length, 98)))"
      ],
      "execution_count": 11,
      "outputs": [
        {
          "output_type": "stream",
          "text": [
            "인풋 길이 최대 값: 70\n",
            "인풋 길이 최소 값: 3\n",
            "인풋 길이 평균 값: 21.40\n",
            "인풋 길이 표준편차: 5.96\n",
            "인풋 길이 중간 값: 21.0\n",
            "인풋 길이 제 1 사분위: 17.0\n",
            "인풋 길이 제 3 사분위: 25.0\n",
            "인풋 길이 98%: 35.0\n"
          ],
          "name": "stdout"
        }
      ]
    },
    {
      "cell_type": "code",
      "metadata": {
        "id": "KFTdhjhpsK--",
        "colab": {
          "base_uri": "https://localhost:8080/",
          "height": 49,
          "referenced_widgets": [
            "4d7e91aceb524638968e816192feb525",
            "a369cba2aeb74c7d9e79b21b6a544459",
            "eb8f02012d04481da927637b2c346d50",
            "acfbeda0e48945389df351db9855c7c9",
            "531336aa0fa642ad8f28d956dec4113e",
            "c7a84124b54a45eab176f3eb9118c0b2",
            "a31b17842c794dc58f2bd0a152354d00",
            "40cf9a1ce2014069be5e57327b454c07",
            "323453fee6484d569a364d92a74fcefb",
            "867fe1b83f4c44469a0fcd0eadcad7b7",
            "b967b41b050344089a82156bcd30958c"
          ]
        },
        "outputId": "57895ece-4fa8-4584-b5e6-05f33ae63d13"
      },
      "source": [
        "tokenizer=BertTokenizer.from_pretrained('bert-base-multilingual-cased',  cache_dir='bert_ckpt', do_lower_case=False)"
      ],
      "execution_count": 12,
      "outputs": [
        {
          "output_type": "display_data",
          "data": {
            "application/vnd.jupyter.widget-view+json": {
              "model_id": "4d7e91aceb524638968e816192feb525",
              "version_minor": 0,
              "version_major": 2
            },
            "text/plain": [
              "Downloading:   0%|          | 0.00/996k [00:00<?, ?B/s]"
            ]
          },
          "metadata": {
            "tags": []
          }
        }
      ]
    },
    {
      "cell_type": "code",
      "metadata": {
        "id": "vJD80cuRgIky"
      },
      "source": [
        "def input_str(text):\n",
        "  return ' '.join(text)"
      ],
      "execution_count": 13,
      "outputs": []
    },
    {
      "cell_type": "code",
      "metadata": {
        "id": "ZRipmS9agIh_"
      },
      "source": [
        "train['data'] = train['token_data'].apply(input_str)\n",
        "test['data'] = test['token_data'].apply(input_str)"
      ],
      "execution_count": 14,
      "outputs": []
    },
    {
      "cell_type": "code",
      "metadata": {
        "colab": {
          "base_uri": "https://localhost:8080/"
        },
        "id": "uhIEES1gHVR_",
        "outputId": "36d38cad-1ae9-4070-a1eb-b450286c1bc1"
      },
      "source": [
        "train_length = train['data'].apply(len)\n",
        "train_length.head()\n",
        "\n",
        "print('인풋 길이 최대 값: {}'.format(np.max(train_length)))\n",
        "print('인풋 길이 최소 값: {}'.format(np.min(train_length)))\n",
        "print('인풋 길이 평균 값: {:.2f}'.format(np.mean(train_length)))\n",
        "print('인풋 길이 표준편차: {:.2f}'.format(np.std(train_length)))\n",
        "print('인풋 길이 중간 값: {}'.format(np.median(train_length)))\n",
        "# 사분위의 대한 경우는 0~100 스케일로 되어있음\n",
        "print('인풋 길이 제 1 사분위: {}'.format(np.percentile(train_length, 25)))\n",
        "print('인풋 길이 제 3 사분위: {}'.format(np.percentile(train_length, 75)))\n",
        "\n",
        "\n",
        "print('인풋 길이 98%: {}'.format(np.percentile(train_length, 98)))"
      ],
      "execution_count": 15,
      "outputs": [
        {
          "output_type": "stream",
          "text": [
            "인풋 길이 최대 값: 331\n",
            "인풋 길이 최소 값: 11\n",
            "인풋 길이 평균 값: 73.92\n",
            "인풋 길이 표준편차: 21.49\n",
            "인풋 길이 중간 값: 72.0\n",
            "인풋 길이 제 1 사분위: 59.0\n",
            "인풋 길이 제 3 사분위: 87.0\n",
            "인풋 길이 98%: 122.0\n"
          ],
          "name": "stdout"
        }
      ]
    },
    {
      "cell_type": "code",
      "metadata": {
        "colab": {
          "base_uri": "https://localhost:8080/"
        },
        "id": "7TOVRZyCHZGW",
        "outputId": "23106b5f-daa1-45a6-a3f5-f67a5082b38c"
      },
      "source": [
        "train_length = test['data'].apply(len)\n",
        "train_length.head()\n",
        "\n",
        "print('인풋 길이 최대 값: {}'.format(np.max(train_length)))\n",
        "print('인풋 길이 최소 값: {}'.format(np.min(train_length)))\n",
        "print('인풋 길이 평균 값: {:.2f}'.format(np.mean(train_length)))\n",
        "print('인풋 길이 표준편차: {:.2f}'.format(np.std(train_length)))\n",
        "print('인풋 길이 중간 값: {}'.format(np.median(train_length)))\n",
        "# 사분위의 대한 경우는 0~100 스케일로 되어있음\n",
        "print('인풋 길이 제 1 사분위: {}'.format(np.percentile(train_length, 25)))\n",
        "print('인풋 길이 제 3 사분위: {}'.format(np.percentile(train_length, 75)))\n",
        "\n",
        "\n",
        "print('인풋 길이 98%: {}'.format(np.percentile(train_length, 98)))"
      ],
      "execution_count": 16,
      "outputs": [
        {
          "output_type": "stream",
          "text": [
            "인풋 길이 최대 값: 331\n",
            "인풋 길이 최소 값: 11\n",
            "인풋 길이 평균 값: 74.01\n",
            "인풋 길이 표준편차: 21.62\n",
            "인풋 길이 중간 값: 72.0\n",
            "인풋 길이 제 1 사분위: 59.0\n",
            "인풋 길이 제 3 사분위: 88.0\n",
            "인풋 길이 98%: 123.0\n"
          ],
          "name": "stdout"
        }
      ]
    },
    {
      "cell_type": "code",
      "metadata": {
        "id": "25GspRESMWak"
      },
      "source": [
        "# 0이 아닌 데이터 2번 복사하여 추가, 추가로 오답률이 높은 label 2번 복사하여 추가 \n",
        "temp = train.copy()\n",
        "temp1 = temp[temp['label'] != 0]\n",
        "temp2 = temp[(temp['label'] == 11)|(temp['label'] == 12)|(temp['label'] == 13)|(temp['label'] == 17)|(temp['label'] == 20)|(temp['label'] == 23)|(temp['label'] == 25)|(temp['label'] == 26)|(temp['label'] == 37)|(temp['label'] == 38)]\n",
        "\n",
        "temp = pd.concat([temp, temp1], axis = 0).reset_index(drop = True)\n",
        "temp = pd.concat([temp, temp1], axis = 0).reset_index(drop = True)\n",
        "temp = pd.concat([temp, temp2], axis = 0).reset_index(drop = True)\n",
        "temp = pd.concat([temp, temp2], axis = 0).reset_index(drop = True)"
      ],
      "execution_count": 17,
      "outputs": []
    },
    {
      "cell_type": "code",
      "metadata": {
        "id": "Fk81NzXkM3V_"
      },
      "source": [
        "#random seed 고정\n",
        "tf.random.set_seed(1234)\n",
        "np.random.seed(1234)\n",
        "BATCH_SIZE = 64\n",
        "NUM_EPOCHS = 3\n",
        "VALID_SPLIT = 0.2\n",
        "MAX_LEN= 122"
      ],
      "execution_count": 18,
      "outputs": []
    },
    {
      "cell_type": "code",
      "metadata": {
        "id": "7mWIvXUKM3Y-"
      },
      "source": [
        "from transformers import *\n",
        "tokenizer=BertTokenizer.from_pretrained('bert-base-multilingual-cased',  cache_dir='bert_ckpt', do_lower_case=False)\n",
        "\n",
        "def bert_tokenizer(sent, MAX_LEN):\n",
        "    \n",
        "    encoded_dict=tokenizer.encode_plus(\n",
        "    text = sent, \n",
        "    add_special_tokens=True, \n",
        "    max_length=MAX_LEN, \n",
        "    pad_to_max_length=True, \n",
        "    return_attention_mask=True,\n",
        "    truncation = True)\n",
        "    \n",
        "    input_id=encoded_dict['input_ids']\n",
        "    attention_mask=encoded_dict['attention_mask']\n",
        "    token_type_id = encoded_dict['token_type_ids']\n",
        "    \n",
        "    return input_id, attention_mask, token_type_id\n",
        "\n",
        "input_ids =[]\n",
        "attention_masks =[]\n",
        "token_type_ids =[]\n",
        "train_data_labels = []\n",
        "\n",
        "# def clean_text(sent):\n",
        "#     sent_clean=re.sub(\"[^가-힣ㄱ-하-ㅣ]\", \" \", sent)\n",
        "#     return sent_clean\n",
        "\n",
        "for train_sent, train_label in zip(temp['data'], temp['label']):\n",
        "    try:\n",
        "        input_id, attention_mask, token_type_id = bert_tokenizer(train_sent, MAX_LEN=MAX_LEN)\n",
        "        \n",
        "        input_ids.append(input_id)\n",
        "        attention_masks.append(attention_mask)\n",
        "        token_type_ids.append(token_type_id)\n",
        "        #########################################\n",
        "        train_data_labels.append(train_label)\n",
        "        \n",
        "    except Exception as e:\n",
        "        print(e)\n",
        "        print(train_sent)\n",
        "        pass\n",
        "\n",
        "train_input_ids=np.array(input_ids, dtype=int)\n",
        "train_attention_masks=np.array(attention_masks, dtype=int)\n",
        "train_token_type_ids=np.array(token_type_ids, dtype=int)\n",
        "###########################################################\n",
        "train_inputs=(train_input_ids, train_attention_masks, train_token_type_ids)\n",
        "train_labels=np.asarray(train_data_labels, dtype=np.int32)"
      ],
      "execution_count": 19,
      "outputs": []
    },
    {
      "cell_type": "code",
      "metadata": {
        "id": "zcKvEyMnjnLD"
      },
      "source": [
        "# def trans_label(number):\n",
        "#     vector =  np.array([0] * 46)\n",
        "#     vector[number] = 1\n",
        "#     return vector\n",
        "\n",
        "# train['label_vector'] = train['label'].apply(trans_label)\n",
        "# train_labels=tf.convert_to_tensor(list(train['label_vector']), dtype=tf.float32)"
      ],
      "execution_count": null,
      "outputs": []
    },
    {
      "cell_type": "code",
      "metadata": {
        "colab": {
          "base_uri": "https://localhost:8080/"
        },
        "id": "Geg5URcWM3bn",
        "outputId": "4618b48b-b13d-4440-9ab8-7d35f908c9cc"
      },
      "source": [
        "num = 3\n",
        "print(train_input_ids[num])\n",
        "print(train_attention_masks[num])\n",
        "print(train_token_type_ids[num])\n",
        "print(tokenizer.decode(train_input_ids[num]))"
      ],
      "execution_count": 20,
      "outputs": [
        {
          "output_type": "stream",
          "text": [
            "[   101   9736  26784   9405  26784  18227   9568  21611   9448  18227\n",
            "  12310   9526   9708  24989   9367  13764  30858  14871   9983 118649\n",
            " 102574  52015   9367  13764   9708  24989   9983 118649   9678  30858\n",
            "  17730 102574  52015   9959  29683   9069  13890 119115    102      0\n",
            "      0      0      0      0      0      0      0      0      0      0\n",
            "      0      0      0      0      0      0      0      0      0      0\n",
            "      0      0      0      0      0      0      0      0      0      0\n",
            "      0      0      0      0      0      0      0      0      0      0\n",
            "      0      0      0      0      0      0      0      0      0      0\n",
            "      0      0      0      0      0      0      0      0      0      0\n",
            "      0      0      0      0      0      0      0      0      0      0\n",
            "      0      0      0      0      0      0      0      0      0      0\n",
            "      0      0]\n",
            "[1 1 1 1 1 1 1 1 1 1 1 1 1 1 1 1 1 1 1 1 1 1 1 1 1 1 1 1 1 1 1 1 1 1 1 1 1\n",
            " 1 1 0 0 0 0 0 0 0 0 0 0 0 0 0 0 0 0 0 0 0 0 0 0 0 0 0 0 0 0 0 0 0 0 0 0 0\n",
            " 0 0 0 0 0 0 0 0 0 0 0 0 0 0 0 0 0 0 0 0 0 0 0 0 0 0 0 0 0 0 0 0 0 0 0 0 0\n",
            " 0 0 0 0 0 0 0 0 0 0 0]\n",
            "[0 0 0 0 0 0 0 0 0 0 0 0 0 0 0 0 0 0 0 0 0 0 0 0 0 0 0 0 0 0 0 0 0 0 0 0 0\n",
            " 0 0 0 0 0 0 0 0 0 0 0 0 0 0 0 0 0 0 0 0 0 0 0 0 0 0 0 0 0 0 0 0 0 0 0 0 0\n",
            " 0 0 0 0 0 0 0 0 0 0 0 0 0 0 0 0 0 0 0 0 0 0 0 0 0 0 0 0 0 0 0 0 0 0 0 0 0\n",
            " 0 0 0 0 0 0 0 0 0 0 0]\n",
            "[CLS] 창업 사업화 연계 소화기 암 진단 분자영상 형광 프로브 분자 진단 형광 조영제 프로브 항체 대장암 [SEP] [PAD] [PAD] [PAD] [PAD] [PAD] [PAD] [PAD] [PAD] [PAD] [PAD] [PAD] [PAD] [PAD] [PAD] [PAD] [PAD] [PAD] [PAD] [PAD] [PAD] [PAD] [PAD] [PAD] [PAD] [PAD] [PAD] [PAD] [PAD] [PAD] [PAD] [PAD] [PAD] [PAD] [PAD] [PAD] [PAD] [PAD] [PAD] [PAD] [PAD] [PAD] [PAD] [PAD] [PAD] [PAD] [PAD] [PAD] [PAD] [PAD] [PAD] [PAD] [PAD] [PAD] [PAD] [PAD] [PAD] [PAD] [PAD] [PAD] [PAD] [PAD] [PAD] [PAD] [PAD] [PAD] [PAD] [PAD] [PAD] [PAD] [PAD] [PAD] [PAD] [PAD] [PAD] [PAD] [PAD] [PAD] [PAD] [PAD] [PAD] [PAD] [PAD] [PAD]\n"
          ],
          "name": "stdout"
        }
      ]
    },
    {
      "cell_type": "code",
      "metadata": {
        "colab": {
          "base_uri": "https://localhost:8080/",
          "height": 220,
          "referenced_widgets": [
            "fe8894ea73024332acb4aee3ca42a932",
            "14ff3589961b465e80528989e96eebc3",
            "49e5424a67734939b6a83970e8a3340f",
            "3d3a3b0aea6f473ab62195a559f0d644",
            "006ad3dbb24848dfbe7426481b430421",
            "3a83b6e228894c05930713dba818c483",
            "6535985694704be095f2eccca79b0c41",
            "deaa79b9cc6447f1b84dd6056fac5422",
            "3f0fa590c00d43528d2fc82afe35e84f",
            "12318481758841a5a48525bfcb89ea57",
            "5d550dd159a84b989c78d9a2a49354b5",
            "7009d05913594d64b378e1e1ef8aa82b",
            "fa7f333049c94e8e830cb4c7416a07d0",
            "a41e974ea12c4e25abcfc8a03f9f514e",
            "251f547527154f75ae6fd9182e669017",
            "42065662c82a40acac1205b0ae559735",
            "43cc6ed6300247d1a1840ddc87bea9a0",
            "c344daf8217c4a108f5227dbd163bcf5",
            "7f5bf1645d1f43e0afe44b9ff213aabd",
            "339d89310dc044b49dc007d3ff8370f4",
            "049c2ee7225e44e5a9a413dfbe96e918",
            "a1e305143de047a1b2da0b36d08704e1"
          ]
        },
        "id": "YGMFYtxqM3eX",
        "outputId": "6ba4ff26-392f-46c0-d65a-38d057d97b5c"
      },
      "source": [
        "class TFBertClassifier(tf.keras.Model):\n",
        "    def __init__(self, model_name, dir_path, num_class):\n",
        "        super(TFBertClassifier, self).__init__()\n",
        "\n",
        "        self.bert = TFBertModel.from_pretrained(model_name, cache_dir=dir_path)\n",
        "        self.dropout = tf.keras.layers.Dropout(self.bert.config.hidden_dropout_prob)\n",
        "        self.classifier = tf.keras.layers.Dense(num_class, \n",
        "                                                kernel_initializer=tf.keras.initializers.TruncatedNormal(self.bert.config.initializer_range), \n",
        "                                                name=\"classifier\")\n",
        "        \n",
        "    def call(self, inputs, attention_mask=None, token_type_ids=None, training=False):\n",
        "        \n",
        "        #outputs 값: # sequence_output, pooled_output, (hidden_states), (attentions)\n",
        "        outputs = self.bert(inputs, attention_mask=attention_mask, token_type_ids=token_type_ids)\n",
        "        pooled_output = outputs[1] \n",
        "        pooled_output = self.dropout(pooled_output, training=training)\n",
        "        logits = self.classifier(pooled_output)\n",
        "\n",
        "        return logits\n",
        "\n",
        "cls_model = TFBertClassifier(model_name='bert-base-multilingual-cased',\n",
        "                                  dir_path='bert_ckpt',\n",
        "                                  num_class=46)\n",
        "\n",
        "# 학습 준비하기\n",
        "optimizer = tf.keras.optimizers.Adam(3e-5)\n",
        "loss = tf.keras.losses.SparseCategoricalCrossentropy(from_logits=True)\n",
        "metric = tf.keras.metrics.SparseCategoricalAccuracy('accuracy')\n",
        "cls_model.compile(optimizer=optimizer, loss=loss, metrics=[metric])\n",
        "\n",
        "model_name = \"tf2_bert_classifier\"\n",
        "\n",
        "# overfitting을 막기 위한 ealrystop 추가\n",
        "earlystop_callback = EarlyStopping(monitor='val_accuracy', min_delta=0.0001,patience=5)\n",
        "# min_delta: the threshold that triggers the termination (acc should at least improve 0.0001)\n",
        "# patience: no improvment epochs (patience = 1, 1번 이상 상승이 없으면 종료)\\\n",
        "\n",
        "checkpoint_path = os.path.join(model_name, 'weights.h5')\n",
        "checkpoint_dir = os.path.dirname(checkpoint_path)\n",
        "\n",
        "# Create path if exists\n",
        "if os.path.exists(checkpoint_dir):\n",
        "    print(\"{} -- Folder already exists \\n\".format(checkpoint_dir))\n",
        "else:\n",
        "    os.makedirs(checkpoint_dir, exist_ok=True)\n",
        "    print(\"{} -- Folder create complete \\n\".format(checkpoint_dir))\n",
        "    \n",
        "cp_callback = ModelCheckpoint(\n",
        "    checkpoint_path, monitor='val_accuracy', verbose=1, save_best_only=True, save_weights_only=True)"
      ],
      "execution_count": 21,
      "outputs": [
        {
          "output_type": "display_data",
          "data": {
            "application/vnd.jupyter.widget-view+json": {
              "model_id": "fe8894ea73024332acb4aee3ca42a932",
              "version_minor": 0,
              "version_major": 2
            },
            "text/plain": [
              "Downloading:   0%|          | 0.00/625 [00:00<?, ?B/s]"
            ]
          },
          "metadata": {
            "tags": []
          }
        },
        {
          "output_type": "display_data",
          "data": {
            "application/vnd.jupyter.widget-view+json": {
              "model_id": "7009d05913594d64b378e1e1ef8aa82b",
              "version_minor": 0,
              "version_major": 2
            },
            "text/plain": [
              "Downloading:   0%|          | 0.00/1.08G [00:00<?, ?B/s]"
            ]
          },
          "metadata": {
            "tags": []
          }
        },
        {
          "output_type": "stream",
          "text": [
            "Some weights of the model checkpoint at bert-base-multilingual-cased were not used when initializing TFBertModel: ['mlm___cls', 'nsp___cls']\n",
            "- This IS expected if you are initializing TFBertModel from the checkpoint of a model trained on another task or with another architecture (e.g. initializing a BertForSequenceClassification model from a BertForPretraining model).\n",
            "- This IS NOT expected if you are initializing TFBertModel from the checkpoint of a model that you expect to be exactly identical (initializing a BertForSequenceClassification model from a BertForSequenceClassification model).\n",
            "All the weights of TFBertModel were initialized from the model checkpoint at bert-base-multilingual-cased.\n",
            "If your task is similar to the task the model of the ckeckpoint was trained on, you can already use TFBertModel for predictions without further training.\n"
          ],
          "name": "stderr"
        },
        {
          "output_type": "stream",
          "text": [
            "tf2_bert_classifier -- Folder create complete \n",
            "\n"
          ],
          "name": "stdout"
        }
      ]
    },
    {
      "cell_type": "code",
      "metadata": {
        "id": "29cLltWEVJT_"
      },
      "source": [
        "cls_model.load_weights('/content/drive/MyDrive/dataset/dacon/technic_classifier/weights.h5')"
      ],
      "execution_count": 23,
      "outputs": []
    },
    {
      "cell_type": "code",
      "metadata": {
        "colab": {
          "base_uri": "https://localhost:8080/"
        },
        "id": "HZwJxVkXeE6O",
        "outputId": "066067d6-5417-4099-f2a5-dfd36da7bd50"
      },
      "source": [
        "# 학습과 eval 시작\n",
        "history = cls_model.fit(train_inputs, train_labels, epochs=3, batch_size=64,\n",
        "                    validation_split = VALID_SPLIT, callbacks=[earlystop_callback, cp_callback])"
      ],
      "execution_count": 24,
      "outputs": [
        {
          "output_type": "stream",
          "text": [
            "Epoch 1/3\n",
            "3116/3116 [==============================] - 2901s 931ms/step - loss: 0.0658 - accuracy: 0.9790 - val_loss: 0.0835 - val_accuracy: 0.9776\n",
            "\n",
            "Epoch 00001: val_accuracy improved from -inf to 0.97761, saving model to tf2_bert_classifier/weights.h5\n",
            "Epoch 2/3\n",
            "3116/3116 [==============================] - 2897s 930ms/step - loss: 0.0625 - accuracy: 0.9801 - val_loss: 0.0651 - val_accuracy: 0.9836\n",
            "\n",
            "Epoch 00002: val_accuracy improved from 0.97761 to 0.98359, saving model to tf2_bert_classifier/weights.h5\n",
            "Epoch 3/3\n",
            "3116/3116 [==============================] - 2899s 930ms/step - loss: 0.0604 - accuracy: 0.9812 - val_loss: 0.0717 - val_accuracy: 0.9807\n",
            "\n",
            "Epoch 00003: val_accuracy did not improve from 0.98359\n"
          ],
          "name": "stdout"
        }
      ]
    },
    {
      "cell_type": "code",
      "metadata": {
        "colab": {
          "base_uri": "https://localhost:8080/"
        },
        "id": "zMw7LRN-fAy3",
        "outputId": "924e50b6-7b42-4659-8f46-56a235f99651"
      },
      "source": [
        "# 학습과 eval 시작\n",
        "history = cls_model.fit(train_inputs, train_labels, epochs=5, batch_size=64,\n",
        "                    validation_split = VALID_SPLIT, callbacks=[earlystop_callback, cp_callback])"
      ],
      "execution_count": 25,
      "outputs": [
        {
          "output_type": "stream",
          "text": [
            "Epoch 1/5\n",
            "3116/3116 [==============================] - 2898s 930ms/step - loss: 0.0543 - accuracy: 0.9827 - val_loss: 0.0615 - val_accuracy: 0.9831\n",
            "\n",
            "Epoch 00001: val_accuracy did not improve from 0.98359\n",
            "Epoch 2/5\n",
            "3116/3116 [==============================] - 2898s 930ms/step - loss: 0.0523 - accuracy: 0.9834 - val_loss: 0.0707 - val_accuracy: 0.9824\n",
            "\n",
            "Epoch 00002: val_accuracy did not improve from 0.98359\n",
            "Epoch 3/5\n",
            "3116/3116 [==============================] - 2898s 930ms/step - loss: 0.0506 - accuracy: 0.9839 - val_loss: 0.0741 - val_accuracy: 0.9802\n",
            "\n",
            "Epoch 00003: val_accuracy did not improve from 0.98359\n",
            "Epoch 4/5\n",
            "3116/3116 [==============================] - 2897s 930ms/step - loss: 0.0488 - accuracy: 0.9843 - val_loss: 0.0572 - val_accuracy: 0.9855\n",
            "\n",
            "Epoch 00004: val_accuracy improved from 0.98359 to 0.98554, saving model to tf2_bert_classifier/weights.h5\n",
            "Epoch 5/5\n",
            "3116/3116 [==============================] - 2896s 929ms/step - loss: 0.0471 - accuracy: 0.9849 - val_loss: 0.0700 - val_accuracy: 0.9807\n",
            "\n",
            "Epoch 00005: val_accuracy did not improve from 0.98554\n"
          ],
          "name": "stdout"
        }
      ]
    },
    {
      "cell_type": "code",
      "metadata": {
        "id": "bl1uYoJEfA1f",
        "colab": {
          "base_uri": "https://localhost:8080/"
        },
        "outputId": "50e94553-1ce8-4a61-f344-2c855c54914a"
      },
      "source": [
        "# 학습과 eval 시작\n",
        "history = cls_model.fit(train_inputs, train_labels, epochs=3, batch_size=64,\n",
        "                    validation_split = VALID_SPLIT, callbacks=[earlystop_callback, cp_callback])"
      ],
      "execution_count": 26,
      "outputs": [
        {
          "output_type": "stream",
          "text": [
            "Epoch 1/3\n",
            "3116/3116 [==============================] - 2897s 930ms/step - loss: 0.0447 - accuracy: 0.9854 - val_loss: 0.0560 - val_accuracy: 0.9841\n",
            "\n",
            "Epoch 00001: val_accuracy did not improve from 0.98554\n",
            "Epoch 2/3\n",
            "3116/3116 [==============================] - 2896s 929ms/step - loss: 0.0427 - accuracy: 0.9860 - val_loss: 0.0684 - val_accuracy: 0.9823\n",
            "\n",
            "Epoch 00002: val_accuracy did not improve from 0.98554\n",
            "Epoch 3/3\n",
            "3116/3116 [==============================] - 2898s 930ms/step - loss: 0.0418 - accuracy: 0.9861 - val_loss: 0.0574 - val_accuracy: 0.9843\n",
            "\n",
            "Epoch 00003: val_accuracy did not improve from 0.98554\n"
          ],
          "name": "stdout"
        }
      ]
    },
    {
      "cell_type": "code",
      "metadata": {
        "id": "_nVPM_shfA4B",
        "colab": {
          "base_uri": "https://localhost:8080/"
        },
        "outputId": "b47b6fde-6773-4b78-8264-4f5d6fdd2dcc"
      },
      "source": [
        "# 학습과 eval 시작\n",
        "history = cls_model.fit(train_inputs, train_labels, epochs=3, batch_size=64,\n",
        "                    validation_split = VALID_SPLIT, callbacks=[earlystop_callback, cp_callback])"
      ],
      "execution_count": 27,
      "outputs": [
        {
          "output_type": "stream",
          "text": [
            "Epoch 1/3\n",
            "3116/3116 [==============================] - 2899s 930ms/step - loss: 0.0409 - accuracy: 0.9866 - val_loss: 0.0580 - val_accuracy: 0.9818\n",
            "\n",
            "Epoch 00001: val_accuracy did not improve from 0.98554\n",
            "Epoch 2/3\n",
            "3116/3116 [==============================] - 2897s 930ms/step - loss: 0.0406 - accuracy: 0.9865 - val_loss: 0.0473 - val_accuracy: 0.9873\n",
            "\n",
            "Epoch 00002: val_accuracy improved from 0.98554 to 0.98730, saving model to tf2_bert_classifier/weights.h5\n",
            "Epoch 3/3\n",
            "3116/3116 [==============================] - 2898s 930ms/step - loss: 0.0387 - accuracy: 0.9869 - val_loss: 0.0467 - val_accuracy: 0.9861\n",
            "\n",
            "Epoch 00003: val_accuracy did not improve from 0.98730\n"
          ],
          "name": "stdout"
        }
      ]
    },
    {
      "cell_type": "code",
      "metadata": {
        "colab": {
          "base_uri": "https://localhost:8080/"
        },
        "id": "XLWUyovpx5tl",
        "outputId": "cd789c57-4319-48b3-dccc-18c07f091ef0"
      },
      "source": [
        "# 학습과 eval 시작\n",
        "history = cls_model.fit(train_inputs, train_labels, epochs=3, batch_size=64,\n",
        "                    validation_split = VALID_SPLIT, callbacks=[earlystop_callback, cp_callback])"
      ],
      "execution_count": null,
      "outputs": [
        {
          "output_type": "stream",
          "text": [
            "Epoch 1/3\n",
            "3116/3116 [==============================] - 2897s 930ms/step - loss: 0.0368 - accuracy: 0.9878 - val_loss: 0.0473 - val_accuracy: 0.9868\n",
            "\n",
            "Epoch 00001: val_accuracy did not improve from 0.98730\n",
            "Epoch 2/3\n",
            "2695/3116 [========================>.....] - ETA: 6:01 - loss: 0.0358 - accuracy: 0.9880"
          ],
          "name": "stdout"
        }
      ]
    },
    {
      "cell_type": "code",
      "metadata": {
        "id": "0A4yUV7efA6r"
      },
      "source": [
        "cls_model.load_weights('/content/tf2_bert_classifier/new_weights.h5')"
      ],
      "execution_count": null,
      "outputs": []
    },
    {
      "cell_type": "code",
      "metadata": {
        "id": "7xEqVAUkO7Jx"
      },
      "source": [
        "input_ids =[]\n",
        "attention_masks =[]\n",
        "token_type_ids =[]\n",
        "train_data_labels = []\n",
        "\n",
        "# def clean_text(sent):\n",
        "#     sent_clean=re.sub(\"[^가-힣ㄱ-하-ㅣ]\", \" \", sent)\n",
        "#     return sent_clean\n",
        "\n",
        "for test_sent in test['data']:\n",
        "    try:\n",
        "        input_id, attention_mask, token_type_id = bert_tokenizer(test_sent, MAX_LEN=MAX_LEN)\n",
        "        \n",
        "        input_ids.append(input_id)\n",
        "        attention_masks.append(attention_mask)\n",
        "        token_type_ids.append(token_type_id)\n",
        "        #########################################\n",
        "       \n",
        "    except Exception as e:\n",
        "        print(e)\n",
        "        print(test_sent)\n",
        "        pass\n",
        "    \n",
        "test_input_ids=np.array(input_ids, dtype=int)\n",
        "test_attention_masks=np.array(attention_masks, dtype=int)\n",
        "test_token_type_ids=np.array(token_type_ids, dtype=int)\n",
        "###########################################################\n",
        "test_inputs=(test_input_ids, test_attention_masks, test_token_type_ids)"
      ],
      "execution_count": null,
      "outputs": []
    },
    {
      "cell_type": "code",
      "metadata": {
        "colab": {
          "base_uri": "https://localhost:8080/"
        },
        "id": "FjHREJsZ51PA",
        "outputId": "e1e208c6-16da-455f-9094-ad8bdd445db9"
      },
      "source": [
        "print(train_input_ids[0])\n",
        "print(train_attention_masks[0])\n",
        "print(train_token_type_ids[0])\n",
        "print(tokenizer.decode(train_input_ids[2]))"
      ],
      "execution_count": null,
      "outputs": [
        {
          "output_type": "stream",
          "text": [
            "[   101   9027  21386  29364   9521  16617  17138   9625  16617   9670\n",
            "  30005   9960 119276   9367  46520  17360   9095  16605   9039 119327\n",
            "  56645  28188  45725  15001   9570  12310  12424  79604   9367  13764\n",
            "   9684   9095  16605   9783 119034   9665  12945  29683    102      0\n",
            "      0      0      0      0      0      0      0      0      0      0\n",
            "      0      0      0      0      0      0      0      0      0      0\n",
            "      0      0      0      0      0      0      0      0      0      0\n",
            "      0      0      0      0      0      0      0      0      0      0\n",
            "      0      0      0      0      0      0      0      0      0      0\n",
            "      0      0      0      0      0      0      0      0      0      0\n",
            "      0      0      0      0      0      0      0      0      0      0\n",
            "      0      0      0      0      0      0      0      0      0      0\n",
            "      0      0]\n",
            "[1 1 1 1 1 1 1 1 1 1 1 1 1 1 1 1 1 1 1 1 1 1 1 1 1 1 1 1 1 1 1 1 1 1 1 1 1\n",
            " 1 1 0 0 0 0 0 0 0 0 0 0 0 0 0 0 0 0 0 0 0 0 0 0 0 0 0 0 0 0 0 0 0 0 0 0 0\n",
            " 0 0 0 0 0 0 0 0 0 0 0 0 0 0 0 0 0 0 0 0 0 0 0 0 0 0 0 0 0 0 0 0 0 0 0 0 0\n",
            " 0 0 0 0 0 0 0 0 0 0 0]\n",
            "[0 0 0 0 0 0 0 0 0 0 0 0 0 0 0 0 0 0 0 0 0 0 0 0 0 0 0 0 0 0 0 0 0 0 0 0 0\n",
            " 0 0 0 0 0 0 0 0 0 0 0 0 0 0 0 0 0 0 0 0 0 0 0 0 0 0 0 0 0 0 0 0 0 0 0 0 0\n",
            " 0 0 0 0 0 0 0 0 0 0 0 0 0 0 0 0 0 0 0 0 0 0 0 0 0 0 0 0 0 0 0 0 0 0 0 0 0\n",
            " 0 0 0 0 0 0 0 0 0 0 0]\n",
            "[CLS] 혁신 기업 비목 셀룰로오스 식물 자원 기능성 부직포 고부가가치 뷰티 케어 facial cotton puff pad 제품 기능성 룰 오스 파이버 천연섬유 기능성 부직포 뷰티 amp 케어 제품 미용 솜 [SEP] [PAD] [PAD] [PAD] [PAD] [PAD] [PAD] [PAD] [PAD] [PAD] [PAD] [PAD] [PAD] [PAD] [PAD] [PAD] [PAD] [PAD] [PAD] [PAD] [PAD] [PAD] [PAD] [PAD] [PAD] [PAD] [PAD] [PAD] [PAD] [PAD] [PAD] [PAD] [PAD] [PAD] [PAD] [PAD] [PAD] [PAD] [PAD] [PAD] [PAD] [PAD] [PAD] [PAD] [PAD] [PAD] [PAD] [PAD] [PAD] [PAD] [PAD] [PAD] [PAD] [PAD]\n"
          ],
          "name": "stdout"
        }
      ]
    },
    {
      "cell_type": "code",
      "metadata": {
        "colab": {
          "base_uri": "https://localhost:8080/"
        },
        "id": "eHMTZTrKLShw",
        "outputId": "e37bc938-fc03-41d1-be2d-41d80d7a3499"
      },
      "source": [
        "print(tokenizer.decode(21386))"
      ],
      "execution_count": null,
      "outputs": [
        {
          "output_type": "stream",
          "text": [
            "# # 산\n"
          ],
          "name": "stdout"
        }
      ]
    },
    {
      "cell_type": "code",
      "metadata": {
        "id": "cy9i-rFmO7MY"
      },
      "source": [
        "results = cls_model.predict(test_inputs)\n",
        "results=tf.argmax(results, axis=1)"
      ],
      "execution_count": null,
      "outputs": []
    },
    {
      "cell_type": "code",
      "metadata": {
        "id": "jwWBQD26O7PR"
      },
      "source": [
        "sample_submission['label']=results"
      ],
      "execution_count": null,
      "outputs": []
    },
    {
      "cell_type": "code",
      "metadata": {
        "id": "g1Pqoo_GO7R9",
        "colab": {
          "base_uri": "https://localhost:8080/",
          "height": 419
        },
        "outputId": "121e3e96-81b3-4fd3-a068-b75b874ccd00"
      },
      "source": [
        "sample_submission"
      ],
      "execution_count": null,
      "outputs": [
        {
          "output_type": "execute_result",
          "data": {
            "text/html": [
              "<div>\n",
              "<style scoped>\n",
              "    .dataframe tbody tr th:only-of-type {\n",
              "        vertical-align: middle;\n",
              "    }\n",
              "\n",
              "    .dataframe tbody tr th {\n",
              "        vertical-align: top;\n",
              "    }\n",
              "\n",
              "    .dataframe thead th {\n",
              "        text-align: right;\n",
              "    }\n",
              "</style>\n",
              "<table border=\"1\" class=\"dataframe\">\n",
              "  <thead>\n",
              "    <tr style=\"text-align: right;\">\n",
              "      <th></th>\n",
              "      <th>index</th>\n",
              "      <th>label</th>\n",
              "    </tr>\n",
              "  </thead>\n",
              "  <tbody>\n",
              "    <tr>\n",
              "      <th>0</th>\n",
              "      <td>174304</td>\n",
              "      <td>0</td>\n",
              "    </tr>\n",
              "    <tr>\n",
              "      <th>1</th>\n",
              "      <td>174305</td>\n",
              "      <td>0</td>\n",
              "    </tr>\n",
              "    <tr>\n",
              "      <th>2</th>\n",
              "      <td>174306</td>\n",
              "      <td>0</td>\n",
              "    </tr>\n",
              "    <tr>\n",
              "      <th>3</th>\n",
              "      <td>174307</td>\n",
              "      <td>0</td>\n",
              "    </tr>\n",
              "    <tr>\n",
              "      <th>4</th>\n",
              "      <td>174308</td>\n",
              "      <td>0</td>\n",
              "    </tr>\n",
              "    <tr>\n",
              "      <th>...</th>\n",
              "      <td>...</td>\n",
              "      <td>...</td>\n",
              "    </tr>\n",
              "    <tr>\n",
              "      <th>43571</th>\n",
              "      <td>217875</td>\n",
              "      <td>0</td>\n",
              "    </tr>\n",
              "    <tr>\n",
              "      <th>43572</th>\n",
              "      <td>217876</td>\n",
              "      <td>0</td>\n",
              "    </tr>\n",
              "    <tr>\n",
              "      <th>43573</th>\n",
              "      <td>217877</td>\n",
              "      <td>2</td>\n",
              "    </tr>\n",
              "    <tr>\n",
              "      <th>43574</th>\n",
              "      <td>217878</td>\n",
              "      <td>0</td>\n",
              "    </tr>\n",
              "    <tr>\n",
              "      <th>43575</th>\n",
              "      <td>217879</td>\n",
              "      <td>0</td>\n",
              "    </tr>\n",
              "  </tbody>\n",
              "</table>\n",
              "<p>43576 rows × 2 columns</p>\n",
              "</div>"
            ],
            "text/plain": [
              "        index  label\n",
              "0      174304      0\n",
              "1      174305      0\n",
              "2      174306      0\n",
              "3      174307      0\n",
              "4      174308      0\n",
              "...       ...    ...\n",
              "43571  217875      0\n",
              "43572  217876      0\n",
              "43573  217877      2\n",
              "43574  217878      0\n",
              "43575  217879      0\n",
              "\n",
              "[43576 rows x 2 columns]"
            ]
          },
          "metadata": {
            "tags": []
          },
          "execution_count": 33
        }
      ]
    },
    {
      "cell_type": "code",
      "metadata": {
        "id": "P8Y0Co_1O7Uu"
      },
      "source": [
        "sample_submission.to_csv('bert_baseline.csv', index=False)"
      ],
      "execution_count": null,
      "outputs": []
    },
    {
      "cell_type": "code",
      "metadata": {
        "id": "VlkQoMzYO7Xf"
      },
      "source": [
        ""
      ],
      "execution_count": null,
      "outputs": []
    },
    {
      "cell_type": "code",
      "metadata": {
        "id": "dQr1aSDlO7dZ"
      },
      "source": [
        ""
      ],
      "execution_count": null,
      "outputs": []
    },
    {
      "cell_type": "code",
      "metadata": {
        "id": "PF3iJJdsO7gP"
      },
      "source": [
        "results = cls_model.predict(train_inputs)\n",
        "results1=tf.argmax(results, axis=1)"
      ],
      "execution_count": null,
      "outputs": []
    },
    {
      "cell_type": "code",
      "metadata": {
        "id": "-oR3H838O7jK"
      },
      "source": [
        "train['pred_label']=results1"
      ],
      "execution_count": null,
      "outputs": []
    },
    {
      "cell_type": "code",
      "metadata": {
        "id": "V8iWOuYtO7l8",
        "colab": {
          "base_uri": "https://localhost:8080/",
          "height": 759
        },
        "outputId": "b16294ad-b416-4e24-b18b-b1fd5b012be1"
      },
      "source": [
        "train[train['pred_label'] != train['label']]"
      ],
      "execution_count": null,
      "outputs": [
        {
          "output_type": "execute_result",
          "data": {
            "text/html": [
              "<div>\n",
              "<style scoped>\n",
              "    .dataframe tbody tr th:only-of-type {\n",
              "        vertical-align: middle;\n",
              "    }\n",
              "\n",
              "    .dataframe tbody tr th {\n",
              "        vertical-align: top;\n",
              "    }\n",
              "\n",
              "    .dataframe thead th {\n",
              "        text-align: right;\n",
              "    }\n",
              "</style>\n",
              "<table border=\"1\" class=\"dataframe\">\n",
              "  <thead>\n",
              "    <tr style=\"text-align: right;\">\n",
              "      <th></th>\n",
              "      <th>vocab_eng</th>\n",
              "      <th>vocab_content</th>\n",
              "      <th>label</th>\n",
              "      <th>input_eng</th>\n",
              "      <th>input_all</th>\n",
              "      <th>data</th>\n",
              "      <th>pred_label</th>\n",
              "    </tr>\n",
              "  </thead>\n",
              "  <tbody>\n",
              "    <tr>\n",
              "      <th>202</th>\n",
              "      <td>['생애 첫 연구사업', '개인기초연구', '이산화탄소', '배출', '저감', '...</td>\n",
              "      <td>['생애 첫 연구사업', '개인기초연구', '이산화탄소', '배출', '저감', '...</td>\n",
              "      <td>0</td>\n",
              "      <td>생애첫연구사업 개인기초연구 이산화탄소 배출 저감 기체 분리 막 시스템 기체 분리 이...</td>\n",
              "      <td>생애첫연구사업 개인기초연구 이산화탄소 배출 저감 기체 분리 막 시스템 기체 분리 이...</td>\n",
              "      <td>생애첫연구사업 개인기초연구 이산화탄소 배출 저감 기체 분리 막 시스템 기체 분리 이...</td>\n",
              "      <td>21</td>\n",
              "    </tr>\n",
              "    <tr>\n",
              "      <th>218</th>\n",
              "      <td>[' 식품위생안전관리', '식품등안전관리', '식품', '잔류농약', '안전', '...</td>\n",
              "      <td>[' 식품위생안전관리', '식품등안전관리', '식품', '잔류농약', '안전', '...</td>\n",
              "      <td>37</td>\n",
              "      <td>식품위생안전관리 식품등안전관리 식품 잔류농약 안전 관리 위해 평가 신규 시험법 확립...</td>\n",
              "      <td>식품위생안전관리 식품등안전관리 식품 잔류농약 안전 관리 위해 평가 신규 시험법 확립...</td>\n",
              "      <td>식품위생안전관리 식품등안전관리 식품 잔류농약 안전 관리 위해 평가 신규 시험법 확립...</td>\n",
              "      <td>26</td>\n",
              "    </tr>\n",
              "    <tr>\n",
              "      <th>267</th>\n",
              "      <td>['원자력원천기술', '원자력기술개발사업', '원자력', '발전소', '작업', '...</td>\n",
              "      <td>['원자력원천기술', '원자력기술개발사업', '원자력', '발전소', '작업', '...</td>\n",
              "      <td>1</td>\n",
              "      <td>원자력원천기술 원자력기술개발사업 원자력 발전소 작업 광학 로봇 개발 원격 제어 힘 ...</td>\n",
              "      <td>원자력원천기술 원자력기술개발사업 원자력 발전소 작업 광학 로봇 개발 원격 제어 힘 ...</td>\n",
              "      <td>원자력원천기술 원자력기술개발사업 원자력 발전소 작업 광학 로봇 개발 원격 제어 힘 ...</td>\n",
              "      <td>0</td>\n",
              "    </tr>\n",
              "    <tr>\n",
              "      <th>268</th>\n",
              "      <td>['시설원예시험연구', '원예특작시험연구RD책임운영', '겨울철', '소과', '종...</td>\n",
              "      <td>['시설원예시험연구', '원예특작시험연구RD책임운영', '겨울철', '소과', '종...</td>\n",
              "      <td>0</td>\n",
              "      <td>시설원예시험연구 원예특작시험연구RD책임운영 겨울철 소과 종 수박 정지 방법 시비 기...</td>\n",
              "      <td>시설원예시험연구 원예특작시험연구RD책임운영 겨울철 소과 종 수박 정지 방법 시비 기...</td>\n",
              "      <td>시설원예시험연구 원예특작시험연구RD책임운영 겨울철 소과 종 수박 정지 방법 시비 기...</td>\n",
              "      <td>24</td>\n",
              "    </tr>\n",
              "    <tr>\n",
              "      <th>550</th>\n",
              "      <td>['기본연구년년', '개인기초연구', '연간', '규모', '사할린', '천연가스'...</td>\n",
              "      <td>['기본연구년년', '개인기초연구', '연간', '규모', '사할린', '천연가스'...</td>\n",
              "      <td>45</td>\n",
              "      <td>기본연구년년 개인기초연구 연간 규모 사할린 천연가스 공급 파이프라인 부식 방지 에너...</td>\n",
              "      <td>기본연구년년 개인기초연구 연간 규모 사할린 천연가스 공급 파이프라인 부식 방지 에너...</td>\n",
              "      <td>기본연구년년 개인기초연구 연간 규모 사할린 천연가스 공급 파이프라인 부식 방지 에너...</td>\n",
              "      <td>13</td>\n",
              "    </tr>\n",
              "    <tr>\n",
              "      <th>...</th>\n",
              "      <td>...</td>\n",
              "      <td>...</td>\n",
              "      <td>...</td>\n",
              "      <td>...</td>\n",
              "      <td>...</td>\n",
              "      <td>...</td>\n",
              "      <td>...</td>\n",
              "    </tr>\n",
              "    <tr>\n",
              "      <th>174285</th>\n",
              "      <td>['구제역백신국산화기반기술개발', '농림축산검역검사기술개발', '구제', '역', ...</td>\n",
              "      <td>['구제역백신국산화기반기술개발', '농림축산검역검사기술개발', '구제', '역', ...</td>\n",
              "      <td>0</td>\n",
              "      <td>구제역백신국산화기반기술개발 농림축산검역검사기술개발 구제 역 백신 항원 회수율 저하 ...</td>\n",
              "      <td>구제역백신국산화기반기술개발 농림축산검역검사기술개발 구제 역 백신 항원 회수율 저하 ...</td>\n",
              "      <td>구제역백신국산화기반기술개발 농림축산검역검사기술개발 구제 역 백신 항원 회수율 저하 ...</td>\n",
              "      <td>25</td>\n",
              "    </tr>\n",
              "    <tr>\n",
              "      <th>174290</th>\n",
              "      <td>['년도 창업성장기술개발사업 디딤돌 창업과제 제차 시행계획 수정 공고', '창업성장...</td>\n",
              "      <td>['년도 창업성장기술개발사업 디딤돌 창업과제 제차 시행계획 수정 공고', '창업성장...</td>\n",
              "      <td>19</td>\n",
              "      <td>년도창업성장기술개발사업디딤돌창업과제제차시행계획수정공고 창업성장기술개발 고속 고 내구...</td>\n",
              "      <td>년도창업성장기술개발사업디딤돌창업과제제차시행계획수정공고 창업성장기술개발 고속 고 내구...</td>\n",
              "      <td>년도창업성장기술개발사업디딤돌창업과제제차시행계획수정공고 창업성장기술개발 고속 고 내구...</td>\n",
              "      <td>0</td>\n",
              "    </tr>\n",
              "    <tr>\n",
              "      <th>174293</th>\n",
              "      <td>['년 제차 제품공정개선 기술개발사업', '공정품질기술개발', '현장', '진단',...</td>\n",
              "      <td>['년 제차 제품공정개선 기술개발사업', '공정품질기술개발', '현장', '진단',...</td>\n",
              "      <td>19</td>\n",
              "      <td>년제차제품공정개선기술개발사업 공정품질기술개발 현장 진단 진단 키트 개발 현장 진단 ...</td>\n",
              "      <td>년제차제품공정개선기술개발사업 공정품질기술개발 현장 진단 진단 키트 개발 현장 진단 ...</td>\n",
              "      <td>년제차제품공정개선기술개발사업 공정품질기술개발 현장 진단 진단 키트 개발 현장 진단 ...</td>\n",
              "      <td>0</td>\n",
              "    </tr>\n",
              "    <tr>\n",
              "      <th>174294</th>\n",
              "      <td>['연구시설이용기반구축', '원자력연구기반확충사업', '양성자', '빔', '조사'...</td>\n",
              "      <td>['연구시설이용기반구축', '원자력연구기반확충사업', '양성자', '빔', '조사'...</td>\n",
              "      <td>5</td>\n",
              "      <td>연구시설이용기반구축 원자력연구기반확충사업 양성자 빔 조사 화합물 반도체 테라 헤르츠...</td>\n",
              "      <td>연구시설이용기반구축 원자력연구기반확충사업 양성자 빔 조사 화합물 반도체 테라 헤르츠...</td>\n",
              "      <td>연구시설이용기반구축 원자력연구기반확충사업 양성자 빔 조사 화합물 반도체 테라 헤르츠...</td>\n",
              "      <td>0</td>\n",
              "    </tr>\n",
              "    <tr>\n",
              "      <th>174298</th>\n",
              "      <td>['핵심전략기술개발', '농업첨단핵심기술개발사업', '농작물', '생산', '영향'...</td>\n",
              "      <td>['핵심전략기술개발', '농업첨단핵심기술개발사업', '농작물', '생산', '영향'...</td>\n",
              "      <td>24</td>\n",
              "      <td>핵심전략기술개발 농업첨단핵심기술개발사업 농작물 생산 영향 화분 매개 곤충 경제적 가...</td>\n",
              "      <td>핵심전략기술개발 농업첨단핵심기술개발사업 농작물 생산 영향 화분 매개 곤충 경제적 가...</td>\n",
              "      <td>핵심전략기술개발 농업첨단핵심기술개발사업 농작물 생산 영향 화분 매개 곤충 경제적 가...</td>\n",
              "      <td>0</td>\n",
              "    </tr>\n",
              "  </tbody>\n",
              "</table>\n",
              "<p>3642 rows × 7 columns</p>\n",
              "</div>"
            ],
            "text/plain": [
              "                                                vocab_eng  ... pred_label\n",
              "202     ['생애 첫 연구사업', '개인기초연구', '이산화탄소', '배출', '저감', '...  ...         21\n",
              "218     [' 식품위생안전관리', '식품등안전관리', '식품', '잔류농약', '안전', '...  ...         26\n",
              "267     ['원자력원천기술', '원자력기술개발사업', '원자력', '발전소', '작업', '...  ...          0\n",
              "268     ['시설원예시험연구', '원예특작시험연구RD책임운영', '겨울철', '소과', '종...  ...         24\n",
              "550     ['기본연구년년', '개인기초연구', '연간', '규모', '사할린', '천연가스'...  ...         13\n",
              "...                                                   ...  ...        ...\n",
              "174285  ['구제역백신국산화기반기술개발', '농림축산검역검사기술개발', '구제', '역', ...  ...         25\n",
              "174290  ['년도 창업성장기술개발사업 디딤돌 창업과제 제차 시행계획 수정 공고', '창업성장...  ...          0\n",
              "174293  ['년 제차 제품공정개선 기술개발사업', '공정품질기술개발', '현장', '진단',...  ...          0\n",
              "174294  ['연구시설이용기반구축', '원자력연구기반확충사업', '양성자', '빔', '조사'...  ...          0\n",
              "174298  ['핵심전략기술개발', '농업첨단핵심기술개발사업', '농작물', '생산', '영향'...  ...          0\n",
              "\n",
              "[3642 rows x 7 columns]"
            ]
          },
          "metadata": {
            "tags": []
          },
          "execution_count": 42
        }
      ]
    }
  ]
}